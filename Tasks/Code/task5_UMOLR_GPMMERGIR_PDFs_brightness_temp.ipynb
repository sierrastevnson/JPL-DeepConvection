{
 "cells": [
  {
   "cell_type": "markdown",
   "metadata": {},
   "source": [
    "## Tasks\n",
    "Assigned to Sierra Stevenson, JSIP intern under Dr. Jonathan Jiang and Dr. Longtao Wu"
   ]
  },
  {
   "cell_type": "markdown",
   "metadata": {},
   "source": [
    "List of Tasks<p>\n",
    "[DONE]&nbsp;&nbsp;&nbsp;Task 1 — UM moisture at 100 hPa map<br>\n",
    "[DONE]&nbsp;&nbsp;&nbsp;Task 2 — MLS moisture at 100 hPa map<br>\n",
    "&nbsp;&nbsp;&nbsp;&nbsp;&nbsp;&nbsp;&nbsp;&nbsp;&nbsp;&nbsp;&nbsp;&nbsp;&nbsp;&nbsp;&nbsp;Task 3 — UM/MLS/AIRS vert. profiles moisture vs temp/pressure<br>\n",
    "&nbsp;&nbsp;&nbsp;&nbsp;&nbsp;&nbsp;&nbsp;&nbsp;&nbsp;&nbsp;&nbsp;&nbsp;&nbsp;&nbsp;&nbsp;Task 4 — UM/MLS PDFs (moisture)<br>\n",
    "&nbsp;&nbsp;&nbsp;&nbsp;&nbsp;&nbsp;&nbsp;&nbsp;&nbsp;&nbsp;&nbsp;&nbsp;&nbsp;&nbsp;&nbsp;Task 5 — UM/GPM_MERGIR PDFs (brightness temp)"
   ]
  },
  {
   "cell_type": "markdown",
   "metadata": {},
   "source": [
    "## Code\n",
    "Setup"
   ]
  },
  {
   "cell_type": "code",
   "execution_count": 1,
   "metadata": {},
   "outputs": [],
   "source": [
    "# NASA Earthdata authorization\n",
    "from subprocess import Popen\n",
    "from getpass import getpass\n",
    "import platform\n",
    "import os\n",
    "import shutil\n",
    "\n",
    "# Data analysis\n",
    "import xarray as xr\n",
    "import numpy as np"
   ]
  },
  {
   "cell_type": "markdown",
   "metadata": {},
   "source": [
    "Access GPM Data Archive"
   ]
  },
  {
   "cell_type": "code",
   "execution_count": 2,
   "metadata": {},
   "outputs": [
    {
     "name": "stdout",
     "output_type": "stream",
     "text": [
      "Saved .netrc, .urs_cookies, and .dodsrc to: /users/smsteven/\n"
     ]
    }
   ],
   "source": [
    "urs = 'urs.earthdata.nasa.gov'    # Earthdata URL to call for authentication\n",
    "prompts = ['Enter NASA Earthdata Login Username \\n(or create an account at urs.earthdata.nasa.gov): ',\n",
    "           'Enter NASA Earthdata Login Password: ']\n",
    "\n",
    "homeDir = os.path.expanduser(\"~\") + os.sep\n",
    "\n",
    "with open(homeDir + '.netrc', 'w') as file:\n",
    "    file.write('machine {} login {} password {}'.format(urs, getpass(prompt=prompts[0]), getpass(prompt=prompts[1])))\n",
    "    file.close()\n",
    "with open(homeDir + '.urs_cookies', 'w') as file:\n",
    "    file.write('')\n",
    "    file.close()\n",
    "with open(homeDir + '.dodsrc', 'w') as file:\n",
    "    file.write('HTTP.COOKIEJAR={}.urs_cookies\\n'.format(homeDir))\n",
    "    file.write('HTTP.NETRC={}.netrc'.format(homeDir))\n",
    "    file.close()\n",
    "\n",
    "print('Saved .netrc, .urs_cookies, and .dodsrc to:', homeDir)\n",
    "\n",
    "# Set appropriate permissions for Linux/macOS\n",
    "if platform.system() != \"Windows\":\n",
    "    Popen('chmod og-rw ~/.netrc', shell=True)\n",
    "else:\n",
    "    # Copy dodsrc to working directory in Windows  \n",
    "    shutil.copy2(homeDir + '.dodsrc', os.getcwd())\n",
    "    print('Copied .dodsrc to:', os.getcwd())"
   ]
  },
  {
   "cell_type": "code",
   "execution_count": 3,
   "metadata": {},
   "outputs": [
    {
     "name": "stderr",
     "output_type": "stream",
     "text": [
      "syntax error, unexpected WORD_WORD, expecting SCAN_ATTR or SCAN_DATASET or SCAN_ERROR\n",
      "context: HTTP^ Basic: Access denied.\n",
      "syntax error, unexpected WORD_WORD, expecting SCAN_ATTR or SCAN_DATASET or SCAN_ERROR\n",
      "context: HTTP^ Basic: Access denied.\n",
      "syntax error, unexpected WORD_WORD, expecting SCAN_ATTR or SCAN_DATASET or SCAN_ERROR\n",
      "context: HTTP^ Basic: Access denied.\n",
      "syntax error, unexpected WORD_WORD, expecting SCAN_ATTR or SCAN_DATASET or SCAN_ERROR\n",
      "context: HTTP^ Basic: Access denied.\n",
      "syntax error, unexpected WORD_WORD, expecting SCAN_ATTR or SCAN_DATASET or SCAN_ERROR\n",
      "context: HTTP^ Basic: Access denied.\n",
      "syntax error, unexpected WORD_WORD, expecting SCAN_ATTR or SCAN_DATASET or SCAN_ERROR\n",
      "context: HTTP^ Basic: Access denied.\n",
      "syntax error, unexpected WORD_WORD, expecting SCAN_ATTR or SCAN_DATASET or SCAN_ERROR\n",
      "context: HTTP^ Basic: Access denied.\n"
     ]
    },
    {
     "ename": "RuntimeError",
     "evalue": "NetCDF: Access failure",
     "output_type": "error",
     "traceback": [
      "\u001b[0;31m---------------------------------------------------------------------------\u001b[0m",
      "\u001b[0;31mRuntimeError\u001b[0m                              Traceback (most recent call last)",
      "Cell \u001b[0;32mIn[3], line 2\u001b[0m\n\u001b[1;32m      1\u001b[0m dataset_url \u001b[39m=\u001b[39m \u001b[39m'\u001b[39m\u001b[39mhttps://disc2.gesdisc.eosdis.nasa.gov/opendap/MERGED_IR/GPM_MERGIR.1/2016/224/merg_2016081100_4km-pixel.nc4\u001b[39m\u001b[39m'\u001b[39m\n\u001b[0;32m----> 2\u001b[0m ds \u001b[39m=\u001b[39m xr\u001b[39m.\u001b[39;49mopen_dataset(dataset_url)\n\u001b[1;32m      3\u001b[0m ds\n",
      "File \u001b[0;32m~/.conda/envs/jsip/lib/python3.9/site-packages/xarray/backends/api.py:495\u001b[0m, in \u001b[0;36mopen_dataset\u001b[0;34m(filename_or_obj, engine, chunks, cache, decode_cf, mask_and_scale, decode_times, decode_timedelta, use_cftime, concat_characters, decode_coords, drop_variables, backend_kwargs, *args, **kwargs)\u001b[0m\n\u001b[1;32m    483\u001b[0m decoders \u001b[39m=\u001b[39m _resolve_decoders_kwargs(\n\u001b[1;32m    484\u001b[0m     decode_cf,\n\u001b[1;32m    485\u001b[0m     open_backend_dataset_parameters\u001b[39m=\u001b[39mbackend\u001b[39m.\u001b[39mopen_dataset_parameters,\n\u001b[0;32m   (...)\u001b[0m\n\u001b[1;32m    491\u001b[0m     decode_coords\u001b[39m=\u001b[39mdecode_coords,\n\u001b[1;32m    492\u001b[0m )\n\u001b[1;32m    494\u001b[0m overwrite_encoded_chunks \u001b[39m=\u001b[39m kwargs\u001b[39m.\u001b[39mpop(\u001b[39m\"\u001b[39m\u001b[39moverwrite_encoded_chunks\u001b[39m\u001b[39m\"\u001b[39m, \u001b[39mNone\u001b[39;00m)\n\u001b[0;32m--> 495\u001b[0m backend_ds \u001b[39m=\u001b[39m backend\u001b[39m.\u001b[39;49mopen_dataset(\n\u001b[1;32m    496\u001b[0m     filename_or_obj,\n\u001b[1;32m    497\u001b[0m     drop_variables\u001b[39m=\u001b[39;49mdrop_variables,\n\u001b[1;32m    498\u001b[0m     \u001b[39m*\u001b[39;49m\u001b[39m*\u001b[39;49mdecoders,\n\u001b[1;32m    499\u001b[0m     \u001b[39m*\u001b[39;49m\u001b[39m*\u001b[39;49mkwargs,\n\u001b[1;32m    500\u001b[0m )\n\u001b[1;32m    501\u001b[0m ds \u001b[39m=\u001b[39m _dataset_from_backend_dataset(\n\u001b[1;32m    502\u001b[0m     backend_ds,\n\u001b[1;32m    503\u001b[0m     filename_or_obj,\n\u001b[0;32m   (...)\u001b[0m\n\u001b[1;32m    510\u001b[0m     \u001b[39m*\u001b[39m\u001b[39m*\u001b[39mkwargs,\n\u001b[1;32m    511\u001b[0m )\n\u001b[1;32m    512\u001b[0m \u001b[39mreturn\u001b[39;00m ds\n",
      "File \u001b[0;32m~/.conda/envs/jsip/lib/python3.9/site-packages/xarray/backends/netCDF4_.py:567\u001b[0m, in \u001b[0;36mNetCDF4BackendEntrypoint.open_dataset\u001b[0;34m(self, filename_or_obj, mask_and_scale, decode_times, concat_characters, decode_coords, drop_variables, use_cftime, decode_timedelta, group, mode, format, clobber, diskless, persist, lock, autoclose)\u001b[0m\n\u001b[1;32m    565\u001b[0m store_entrypoint \u001b[39m=\u001b[39m StoreBackendEntrypoint()\n\u001b[1;32m    566\u001b[0m \u001b[39mwith\u001b[39;00m close_on_error(store):\n\u001b[0;32m--> 567\u001b[0m     ds \u001b[39m=\u001b[39m store_entrypoint\u001b[39m.\u001b[39;49mopen_dataset(\n\u001b[1;32m    568\u001b[0m         store,\n\u001b[1;32m    569\u001b[0m         mask_and_scale\u001b[39m=\u001b[39;49mmask_and_scale,\n\u001b[1;32m    570\u001b[0m         decode_times\u001b[39m=\u001b[39;49mdecode_times,\n\u001b[1;32m    571\u001b[0m         concat_characters\u001b[39m=\u001b[39;49mconcat_characters,\n\u001b[1;32m    572\u001b[0m         decode_coords\u001b[39m=\u001b[39;49mdecode_coords,\n\u001b[1;32m    573\u001b[0m         drop_variables\u001b[39m=\u001b[39;49mdrop_variables,\n\u001b[1;32m    574\u001b[0m         use_cftime\u001b[39m=\u001b[39;49muse_cftime,\n\u001b[1;32m    575\u001b[0m         decode_timedelta\u001b[39m=\u001b[39;49mdecode_timedelta,\n\u001b[1;32m    576\u001b[0m     )\n\u001b[1;32m    577\u001b[0m \u001b[39mreturn\u001b[39;00m ds\n",
      "File \u001b[0;32m~/.conda/envs/jsip/lib/python3.9/site-packages/xarray/backends/store.py:27\u001b[0m, in \u001b[0;36mStoreBackendEntrypoint.open_dataset\u001b[0;34m(self, store, mask_and_scale, decode_times, concat_characters, decode_coords, drop_variables, use_cftime, decode_timedelta)\u001b[0m\n\u001b[1;32m     24\u001b[0m \u001b[39mvars\u001b[39m, attrs \u001b[39m=\u001b[39m store\u001b[39m.\u001b[39mload()\n\u001b[1;32m     25\u001b[0m encoding \u001b[39m=\u001b[39m store\u001b[39m.\u001b[39mget_encoding()\n\u001b[0;32m---> 27\u001b[0m \u001b[39mvars\u001b[39m, attrs, coord_names \u001b[39m=\u001b[39m conventions\u001b[39m.\u001b[39;49mdecode_cf_variables(\n\u001b[1;32m     28\u001b[0m     \u001b[39mvars\u001b[39;49m,\n\u001b[1;32m     29\u001b[0m     attrs,\n\u001b[1;32m     30\u001b[0m     mask_and_scale\u001b[39m=\u001b[39;49mmask_and_scale,\n\u001b[1;32m     31\u001b[0m     decode_times\u001b[39m=\u001b[39;49mdecode_times,\n\u001b[1;32m     32\u001b[0m     concat_characters\u001b[39m=\u001b[39;49mconcat_characters,\n\u001b[1;32m     33\u001b[0m     decode_coords\u001b[39m=\u001b[39;49mdecode_coords,\n\u001b[1;32m     34\u001b[0m     drop_variables\u001b[39m=\u001b[39;49mdrop_variables,\n\u001b[1;32m     35\u001b[0m     use_cftime\u001b[39m=\u001b[39;49muse_cftime,\n\u001b[1;32m     36\u001b[0m     decode_timedelta\u001b[39m=\u001b[39;49mdecode_timedelta,\n\u001b[1;32m     37\u001b[0m )\n\u001b[1;32m     39\u001b[0m ds \u001b[39m=\u001b[39m Dataset(\u001b[39mvars\u001b[39m, attrs\u001b[39m=\u001b[39mattrs)\n\u001b[1;32m     40\u001b[0m ds \u001b[39m=\u001b[39m ds\u001b[39m.\u001b[39mset_coords(coord_names\u001b[39m.\u001b[39mintersection(\u001b[39mvars\u001b[39m))\n",
      "File \u001b[0;32m~/.conda/envs/jsip/lib/python3.9/site-packages/xarray/conventions.py:516\u001b[0m, in \u001b[0;36mdecode_cf_variables\u001b[0;34m(variables, attributes, concat_characters, mask_and_scale, decode_times, decode_coords, drop_variables, use_cftime, decode_timedelta)\u001b[0m\n\u001b[1;32m    509\u001b[0m     \u001b[39mcontinue\u001b[39;00m\n\u001b[1;32m    510\u001b[0m stack_char_dim \u001b[39m=\u001b[39m (\n\u001b[1;32m    511\u001b[0m     concat_characters\n\u001b[1;32m    512\u001b[0m     \u001b[39mand\u001b[39;00m v\u001b[39m.\u001b[39mdtype \u001b[39m==\u001b[39m \u001b[39m\"\u001b[39m\u001b[39mS1\u001b[39m\u001b[39m\"\u001b[39m\n\u001b[1;32m    513\u001b[0m     \u001b[39mand\u001b[39;00m v\u001b[39m.\u001b[39mndim \u001b[39m>\u001b[39m \u001b[39m0\u001b[39m\n\u001b[1;32m    514\u001b[0m     \u001b[39mand\u001b[39;00m stackable(v\u001b[39m.\u001b[39mdims[\u001b[39m-\u001b[39m\u001b[39m1\u001b[39m])\n\u001b[1;32m    515\u001b[0m )\n\u001b[0;32m--> 516\u001b[0m new_vars[k] \u001b[39m=\u001b[39m decode_cf_variable(\n\u001b[1;32m    517\u001b[0m     k,\n\u001b[1;32m    518\u001b[0m     v,\n\u001b[1;32m    519\u001b[0m     concat_characters\u001b[39m=\u001b[39;49mconcat_characters,\n\u001b[1;32m    520\u001b[0m     mask_and_scale\u001b[39m=\u001b[39;49mmask_and_scale,\n\u001b[1;32m    521\u001b[0m     decode_times\u001b[39m=\u001b[39;49mdecode_times,\n\u001b[1;32m    522\u001b[0m     stack_char_dim\u001b[39m=\u001b[39;49mstack_char_dim,\n\u001b[1;32m    523\u001b[0m     use_cftime\u001b[39m=\u001b[39;49muse_cftime,\n\u001b[1;32m    524\u001b[0m     decode_timedelta\u001b[39m=\u001b[39;49mdecode_timedelta,\n\u001b[1;32m    525\u001b[0m )\n\u001b[1;32m    526\u001b[0m \u001b[39mif\u001b[39;00m decode_coords \u001b[39min\u001b[39;00m [\u001b[39mTrue\u001b[39;00m, \u001b[39m\"\u001b[39m\u001b[39mcoordinates\u001b[39m\u001b[39m\"\u001b[39m, \u001b[39m\"\u001b[39m\u001b[39mall\u001b[39m\u001b[39m\"\u001b[39m]:\n\u001b[1;32m    527\u001b[0m     var_attrs \u001b[39m=\u001b[39m new_vars[k]\u001b[39m.\u001b[39mattrs\n",
      "File \u001b[0;32m~/.conda/envs/jsip/lib/python3.9/site-packages/xarray/conventions.py:364\u001b[0m, in \u001b[0;36mdecode_cf_variable\u001b[0;34m(name, var, concat_characters, mask_and_scale, decode_times, decode_endianness, stack_char_dim, use_cftime, decode_timedelta)\u001b[0m\n\u001b[1;32m    362\u001b[0m     var \u001b[39m=\u001b[39m times\u001b[39m.\u001b[39mCFTimedeltaCoder()\u001b[39m.\u001b[39mdecode(var, name\u001b[39m=\u001b[39mname)\n\u001b[1;32m    363\u001b[0m \u001b[39mif\u001b[39;00m decode_times:\n\u001b[0;32m--> 364\u001b[0m     var \u001b[39m=\u001b[39m times\u001b[39m.\u001b[39;49mCFDatetimeCoder(use_cftime\u001b[39m=\u001b[39;49muse_cftime)\u001b[39m.\u001b[39;49mdecode(var, name\u001b[39m=\u001b[39;49mname)\n\u001b[1;32m    366\u001b[0m dimensions, data, attributes, encoding \u001b[39m=\u001b[39m variables\u001b[39m.\u001b[39munpack_for_decoding(var)\n\u001b[1;32m    367\u001b[0m \u001b[39m# TODO(shoyer): convert everything below to use coders\u001b[39;00m\n",
      "File \u001b[0;32m~/.conda/envs/jsip/lib/python3.9/site-packages/xarray/coding/times.py:673\u001b[0m, in \u001b[0;36mCFDatetimeCoder.decode\u001b[0;34m(self, variable, name)\u001b[0m\n\u001b[1;32m    671\u001b[0m units \u001b[39m=\u001b[39m pop_to(attrs, encoding, \u001b[39m\"\u001b[39m\u001b[39munits\u001b[39m\u001b[39m\"\u001b[39m)\n\u001b[1;32m    672\u001b[0m calendar \u001b[39m=\u001b[39m pop_to(attrs, encoding, \u001b[39m\"\u001b[39m\u001b[39mcalendar\u001b[39m\u001b[39m\"\u001b[39m)\n\u001b[0;32m--> 673\u001b[0m dtype \u001b[39m=\u001b[39m _decode_cf_datetime_dtype(data, units, calendar, \u001b[39mself\u001b[39;49m\u001b[39m.\u001b[39;49muse_cftime)\n\u001b[1;32m    674\u001b[0m transform \u001b[39m=\u001b[39m partial(\n\u001b[1;32m    675\u001b[0m     decode_cf_datetime,\n\u001b[1;32m    676\u001b[0m     units\u001b[39m=\u001b[39munits,\n\u001b[1;32m    677\u001b[0m     calendar\u001b[39m=\u001b[39mcalendar,\n\u001b[1;32m    678\u001b[0m     use_cftime\u001b[39m=\u001b[39m\u001b[39mself\u001b[39m\u001b[39m.\u001b[39muse_cftime,\n\u001b[1;32m    679\u001b[0m )\n\u001b[1;32m    680\u001b[0m data \u001b[39m=\u001b[39m lazy_elemwise_func(data, transform, dtype)\n",
      "File \u001b[0;32m~/.conda/envs/jsip/lib/python3.9/site-packages/xarray/coding/times.py:170\u001b[0m, in \u001b[0;36m_decode_cf_datetime_dtype\u001b[0;34m(data, units, calendar, use_cftime)\u001b[0m\n\u001b[1;32m    164\u001b[0m \u001b[39mdef\u001b[39;00m \u001b[39m_decode_cf_datetime_dtype\u001b[39m(data, units, calendar, use_cftime):\n\u001b[1;32m    165\u001b[0m     \u001b[39m# Verify that at least the first and last date can be decoded\u001b[39;00m\n\u001b[1;32m    166\u001b[0m     \u001b[39m# successfully. Otherwise, tracebacks end up swallowed by\u001b[39;00m\n\u001b[1;32m    167\u001b[0m     \u001b[39m# Dataset.__repr__ when users try to view their lazily decoded array.\u001b[39;00m\n\u001b[1;32m    168\u001b[0m     values \u001b[39m=\u001b[39m indexing\u001b[39m.\u001b[39mImplicitToExplicitIndexingAdapter(indexing\u001b[39m.\u001b[39mas_indexable(data))\n\u001b[1;32m    169\u001b[0m     example_value \u001b[39m=\u001b[39m np\u001b[39m.\u001b[39mconcatenate(\n\u001b[0;32m--> 170\u001b[0m         [first_n_items(values, \u001b[39m1\u001b[39;49m) \u001b[39mor\u001b[39;00m [\u001b[39m0\u001b[39m], last_item(values) \u001b[39mor\u001b[39;00m [\u001b[39m0\u001b[39m]]\n\u001b[1;32m    171\u001b[0m     )\n\u001b[1;32m    173\u001b[0m     \u001b[39mtry\u001b[39;00m:\n\u001b[1;32m    174\u001b[0m         result \u001b[39m=\u001b[39m decode_cf_datetime(example_value, units, calendar, use_cftime)\n",
      "File \u001b[0;32m~/.conda/envs/jsip/lib/python3.9/site-packages/xarray/core/formatting.py:72\u001b[0m, in \u001b[0;36mfirst_n_items\u001b[0;34m(array, n_desired)\u001b[0m\n\u001b[1;32m     70\u001b[0m     indexer \u001b[39m=\u001b[39m _get_indexer_at_least_n_items(array\u001b[39m.\u001b[39mshape, n_desired, from_end\u001b[39m=\u001b[39m\u001b[39mFalse\u001b[39;00m)\n\u001b[1;32m     71\u001b[0m     array \u001b[39m=\u001b[39m array[indexer]\n\u001b[0;32m---> 72\u001b[0m \u001b[39mreturn\u001b[39;00m np\u001b[39m.\u001b[39;49masarray(array)\u001b[39m.\u001b[39mflat[:n_desired]\n",
      "File \u001b[0;32m~/.conda/envs/jsip/lib/python3.9/site-packages/xarray/core/indexing.py:358\u001b[0m, in \u001b[0;36mImplicitToExplicitIndexingAdapter.__array__\u001b[0;34m(self, dtype)\u001b[0m\n\u001b[1;32m    357\u001b[0m \u001b[39mdef\u001b[39;00m \u001b[39m__array__\u001b[39m(\u001b[39mself\u001b[39m, dtype\u001b[39m=\u001b[39m\u001b[39mNone\u001b[39;00m):\n\u001b[0;32m--> 358\u001b[0m     \u001b[39mreturn\u001b[39;00m np\u001b[39m.\u001b[39;49masarray(\u001b[39mself\u001b[39;49m\u001b[39m.\u001b[39;49marray, dtype\u001b[39m=\u001b[39;49mdtype)\n",
      "File \u001b[0;32m~/.conda/envs/jsip/lib/python3.9/site-packages/xarray/core/indexing.py:423\u001b[0m, in \u001b[0;36mLazilyIndexedArray.__array__\u001b[0;34m(self, dtype)\u001b[0m\n\u001b[1;32m    421\u001b[0m \u001b[39mdef\u001b[39;00m \u001b[39m__array__\u001b[39m(\u001b[39mself\u001b[39m, dtype\u001b[39m=\u001b[39m\u001b[39mNone\u001b[39;00m):\n\u001b[1;32m    422\u001b[0m     array \u001b[39m=\u001b[39m as_indexable(\u001b[39mself\u001b[39m\u001b[39m.\u001b[39marray)\n\u001b[0;32m--> 423\u001b[0m     \u001b[39mreturn\u001b[39;00m np\u001b[39m.\u001b[39masarray(array[\u001b[39mself\u001b[39;49m\u001b[39m.\u001b[39;49mkey], dtype\u001b[39m=\u001b[39m\u001b[39mNone\u001b[39;00m)\n",
      "File \u001b[0;32m~/.conda/envs/jsip/lib/python3.9/site-packages/xarray/backends/netCDF4_.py:93\u001b[0m, in \u001b[0;36mNetCDF4ArrayWrapper.__getitem__\u001b[0;34m(self, key)\u001b[0m\n\u001b[1;32m     92\u001b[0m \u001b[39mdef\u001b[39;00m \u001b[39m__getitem__\u001b[39m(\u001b[39mself\u001b[39m, key):\n\u001b[0;32m---> 93\u001b[0m     \u001b[39mreturn\u001b[39;00m indexing\u001b[39m.\u001b[39;49mexplicit_indexing_adapter(\n\u001b[1;32m     94\u001b[0m         key, \u001b[39mself\u001b[39;49m\u001b[39m.\u001b[39;49mshape, indexing\u001b[39m.\u001b[39;49mIndexingSupport\u001b[39m.\u001b[39;49mOUTER, \u001b[39mself\u001b[39;49m\u001b[39m.\u001b[39;49m_getitem\n\u001b[1;32m     95\u001b[0m     )\n",
      "File \u001b[0;32m~/.conda/envs/jsip/lib/python3.9/site-packages/xarray/core/indexing.py:712\u001b[0m, in \u001b[0;36mexplicit_indexing_adapter\u001b[0;34m(key, shape, indexing_support, raw_indexing_method)\u001b[0m\n\u001b[1;32m    690\u001b[0m \u001b[39m\u001b[39m\u001b[39m\"\"\"Support explicit indexing by delegating to a raw indexing method.\u001b[39;00m\n\u001b[1;32m    691\u001b[0m \n\u001b[1;32m    692\u001b[0m \u001b[39mOuter and/or vectorized indexers are supported by indexing a second time\u001b[39;00m\n\u001b[0;32m   (...)\u001b[0m\n\u001b[1;32m    709\u001b[0m \u001b[39mIndexing result, in the form of a duck numpy-array.\u001b[39;00m\n\u001b[1;32m    710\u001b[0m \u001b[39m\"\"\"\u001b[39;00m\n\u001b[1;32m    711\u001b[0m raw_key, numpy_indices \u001b[39m=\u001b[39m decompose_indexer(key, shape, indexing_support)\n\u001b[0;32m--> 712\u001b[0m result \u001b[39m=\u001b[39m raw_indexing_method(raw_key\u001b[39m.\u001b[39;49mtuple)\n\u001b[1;32m    713\u001b[0m \u001b[39mif\u001b[39;00m numpy_indices\u001b[39m.\u001b[39mtuple:\n\u001b[1;32m    714\u001b[0m     \u001b[39m# index the loaded np.ndarray\u001b[39;00m\n\u001b[1;32m    715\u001b[0m     result \u001b[39m=\u001b[39m NumpyIndexingAdapter(np\u001b[39m.\u001b[39masarray(result))[numpy_indices]\n",
      "File \u001b[0;32m~/.conda/envs/jsip/lib/python3.9/site-packages/xarray/backends/netCDF4_.py:106\u001b[0m, in \u001b[0;36mNetCDF4ArrayWrapper._getitem\u001b[0;34m(self, key)\u001b[0m\n\u001b[1;32m    104\u001b[0m     \u001b[39mwith\u001b[39;00m \u001b[39mself\u001b[39m\u001b[39m.\u001b[39mdatastore\u001b[39m.\u001b[39mlock:\n\u001b[1;32m    105\u001b[0m         original_array \u001b[39m=\u001b[39m \u001b[39mself\u001b[39m\u001b[39m.\u001b[39mget_array(needs_lock\u001b[39m=\u001b[39m\u001b[39mFalse\u001b[39;00m)\n\u001b[0;32m--> 106\u001b[0m         array \u001b[39m=\u001b[39m getitem(original_array, key)\n\u001b[1;32m    107\u001b[0m \u001b[39mexcept\u001b[39;00m \u001b[39mIndexError\u001b[39;00m:\n\u001b[1;32m    108\u001b[0m     \u001b[39m# Catch IndexError in netCDF4 and return a more informative\u001b[39;00m\n\u001b[1;32m    109\u001b[0m     \u001b[39m# error message.  This is most often called when an unsorted\u001b[39;00m\n\u001b[1;32m    110\u001b[0m     \u001b[39m# indexer is used before the data is loaded from disk.\u001b[39;00m\n\u001b[1;32m    111\u001b[0m     msg \u001b[39m=\u001b[39m (\n\u001b[1;32m    112\u001b[0m         \u001b[39m\"\u001b[39m\u001b[39mThe indexing operation you are attempting to perform \u001b[39m\u001b[39m\"\u001b[39m\n\u001b[1;32m    113\u001b[0m         \u001b[39m\"\u001b[39m\u001b[39mis not valid on netCDF4.Variable object. Try loading \u001b[39m\u001b[39m\"\u001b[39m\n\u001b[1;32m    114\u001b[0m         \u001b[39m\"\u001b[39m\u001b[39myour data into memory first by calling .load().\u001b[39m\u001b[39m\"\u001b[39m\n\u001b[1;32m    115\u001b[0m     )\n",
      "File \u001b[0;32m~/.conda/envs/jsip/lib/python3.9/site-packages/xarray/backends/common.py:64\u001b[0m, in \u001b[0;36mrobust_getitem\u001b[0;34m(array, key, catch, max_retries, initial_delay)\u001b[0m\n\u001b[1;32m     62\u001b[0m \u001b[39mfor\u001b[39;00m n \u001b[39min\u001b[39;00m \u001b[39mrange\u001b[39m(max_retries \u001b[39m+\u001b[39m \u001b[39m1\u001b[39m):\n\u001b[1;32m     63\u001b[0m     \u001b[39mtry\u001b[39;00m:\n\u001b[0;32m---> 64\u001b[0m         \u001b[39mreturn\u001b[39;00m array[key]\n\u001b[1;32m     65\u001b[0m     \u001b[39mexcept\u001b[39;00m catch:\n\u001b[1;32m     66\u001b[0m         \u001b[39mif\u001b[39;00m n \u001b[39m==\u001b[39m max_retries:\n",
      "File \u001b[0;32msrc/netCDF4/_netCDF4.pyx:4973\u001b[0m, in \u001b[0;36mnetCDF4._netCDF4.Variable.__getitem__\u001b[0;34m()\u001b[0m\n",
      "File \u001b[0;32msrc/netCDF4/_netCDF4.pyx:5930\u001b[0m, in \u001b[0;36mnetCDF4._netCDF4.Variable._get\u001b[0;34m()\u001b[0m\n",
      "File \u001b[0;32msrc/netCDF4/_netCDF4.pyx:2028\u001b[0m, in \u001b[0;36mnetCDF4._netCDF4._ensure_nc_success\u001b[0;34m()\u001b[0m\n",
      "\u001b[0;31mRuntimeError\u001b[0m: NetCDF: Access failure"
     ]
    }
   ],
   "source": [
    "dataset_url = 'https://disc2.gesdisc.eosdis.nasa.gov/opendap/MERGED_IR/GPM_MERGIR.1/2016/224/merg_2016081100_4km-pixel.nc4'\n",
    "ds = xr.open_dataset(dataset_url)\n",
    "ds"
   ]
  },
  {
   "cell_type": "markdown",
   "metadata": {},
   "source": [
    "Create list of URLS"
   ]
  },
  {
   "cell_type": "code",
   "execution_count": null,
   "metadata": {},
   "outputs": [],
   "source": [
    "# Function to create lists of numbers that are all two digit strings (ie '00', '01', '02', ...)\n",
    "def MakeTwoDigits(arr, num_range):\n",
    "    for num in num_range:\n",
    "        if num < 10:\n",
    "            arr.append(\"0\"+f\"{num}\")\n",
    "        else:\n",
    "            arr.append(f\"{num}\")\n",
    "\n",
    "# Create empty arrays\n",
    "month_vals, yday_range, mday_range, hour_range = [], [], [], []\n",
    "\n",
    "# Fill arrays and modify as needed\n",
    "MakeTwoDigits(month_vals, np.int_(np.append(np.ones(21)*8, np.ones(8)*9)))      # Month\n",
    "MakeTwoDigits(yday_range, np.arange(224,252+1))     # Day of the year\n",
    "MakeTwoDigits(mday_range, np.arange(1,31+1))        # Day of the month\n",
    "mday_range = mday_range[10:] + mday_range[0:8]      # Day of the month: Reorder to start from the 11 and end at 08 of the next month\n",
    "MakeTwoDigits(hour_range, np.arange(0,23+1))        # Hour\n",
    "day_range = list(zip(yday_range, mday_range, month_vals))   # Map day and month arrays together\n",
    "\n",
    "# Create list to store .nc files\n",
    "GPM_data_olr_list = []\n",
    "\n",
    "# Iterate through OPeNDAP URLs and store each dataset in list\n",
    "for day in day_range:\n",
    "    for hour in hour_range:\n",
    "        GPM_data_olr_list.append(f\"https://disc2.gesdisc.eosdis.nasa.gov/opendap/MERGED_IR/GPM_MERGIR.1/2016/{day[0]}/merg_2016{day[2]}{day[1]}{hour}_4km-pixel.nc4\")"
   ]
  },
  {
   "cell_type": "markdown",
   "metadata": {},
   "source": [
    "Read in all data"
   ]
  },
  {
   "cell_type": "code",
   "execution_count": null,
   "metadata": {},
   "outputs": [
    {
     "name": "stdout",
     "output_type": "stream",
     "text": [
      "Now uploading data from NASA Earthdata... (Approximately 13 minutes)\n"
     ]
    }
   ],
   "source": [
    "print(\"Now uploading data from NASA Earthdata... (Approximately 13 minutes)\")\n",
    "GPM_data = xr.open_mfdataset(GPM_data_olr_list)\n",
    "print(\"Upload complete!\")\n",
    "GPM_data"
   ]
  },
  {
   "cell_type": "code",
   "execution_count": null,
   "metadata": {},
   "outputs": [],
   "source": [
    "print(\"Upload complete!\")\n",
    "GPM_OLR = GPM_data['Tb']"
   ]
  },
  {
   "cell_type": "markdown",
   "metadata": {},
   "source": [
    "### Figures"
   ]
  },
  {
   "cell_type": "markdown",
   "metadata": {},
   "source": [
    "PDF of brightness temperature data (GPM_MERGIR)"
   ]
  },
  {
   "cell_type": "code",
   "execution_count": null,
   "metadata": {},
   "outputs": [
    {
     "ename": "NameError",
     "evalue": "name 'GPM_OLR' is not defined",
     "output_type": "error",
     "traceback": [
      "\u001b[0;31m---------------------------------------------------------------------------\u001b[0m",
      "\u001b[0;31mNameError\u001b[0m                                 Traceback (most recent call last)",
      "Cell \u001b[0;32mIn[87], line 8\u001b[0m\n\u001b[1;32m      5\u001b[0m plt\u001b[39m.\u001b[39mylabel(\u001b[39m\"\u001b[39m\u001b[39mDensity\u001b[39m\u001b[39m\"\u001b[39m)\n\u001b[1;32m      7\u001b[0m \u001b[39m# Plot PDF\u001b[39;00m\n\u001b[0;32m----> 8\u001b[0m plt\u001b[39m.\u001b[39mplot(GPM_OLR, sst\u001b[39m.\u001b[39mnorm\u001b[39m.\u001b[39mpdf(GPM_OLR))\n\u001b[1;32m      9\u001b[0m plt\u001b[39m.\u001b[39mshow()\n",
      "\u001b[0;31mNameError\u001b[0m: name 'GPM_OLR' is not defined"
     ]
    },
    {
     "data": {
      "image/png": "[encoded data removed]",
      "text/plain": [
       "<Figure size 640x480 with 1 Axes>"
      ]
     },
     "metadata": {},
     "output_type": "display_data"
    }
   ],
   "source": [
    "plt.title(\"GPM_MERGIR brightness temperature PDF for Aug 11-Sep 8, 2016\")\n",
    "\n",
    "# x and y labels\n",
    "plt.xlabel(\"Brightness temperature (K)\")\n",
    "plt.ylabel(\"Density\")\n",
    "\n",
    "# Plot PDF\n",
    "plt.plot(GPM_OLR, sst.norm.pdf(GPM_OLR))\n",
    "plt.show()"
   ]
  }
 ],
 "metadata": {
  "kernelspec": {
   "display_name": "Python 3",
   "language": "python",
   "name": "python3"
  },
  "language_info": {
   "codemirror_mode": {
    "name": "ipython",
    "version": 3
   },
   "file_extension": ".py",
   "mimetype": "text/x-python",
   "name": "python",
   "nbconvert_exporter": "python",
   "pygments_lexer": "ipython3",
   "version": "3.9.17"
  },
  "orig_nbformat": 4
 },
 "nbformat": 4,
 "nbformat_minor": 2
}
