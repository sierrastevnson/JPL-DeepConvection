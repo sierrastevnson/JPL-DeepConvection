{
 "cells": [
  {
   "cell_type": "markdown",
   "metadata": {},
   "source": [
    "## Tasks\n",
    "Assigned to Sierra Stevenson, JSIP intern under Dr. Jonathan Jiang and Dr. Longtao Wu<p>\n",
    "This analysis is intended to compare observed (MLS/AIRS/GPM_MERGIR) and simulated (UM) data to evaluate<br>how convection is resolved by storm-resolving models."
   ]
  },
  {
   "cell_type": "markdown",
   "metadata": {},
   "source": [
    "List of Tasks<p>\n",
    "[DONE]&nbsp;&nbsp;&nbsp;Task 1 — UM moisture at 100 hPa map<br>\n",
    "[DONE]&nbsp;&nbsp;&nbsp;Task 2 — MLS moisture at 100 hPa map<br>\n",
    "&nbsp;&nbsp;&nbsp;&nbsp;&nbsp;&nbsp;&nbsp;&nbsp;&nbsp;&nbsp;&nbsp;&nbsp;&nbsp;&nbsp;&nbsp;Task 3 — UM/MLS/AIRS vert. profiles pressure vs temp/moisture<br>\n",
    "&nbsp;&nbsp;&nbsp;&nbsp;&nbsp;&nbsp;&nbsp;&nbsp;&nbsp;&nbsp;&nbsp;&nbsp;&nbsp;&nbsp;&nbsp;Task 4 — UM/MLS PDFs (moisture)<br>\n",
    "&nbsp;&nbsp;&nbsp;&nbsp;&nbsp;&nbsp;&nbsp;&nbsp;&nbsp;&nbsp;&nbsp;&nbsp;&nbsp;&nbsp;&nbsp;Task 5 — UM/GPM_MERGIR PDFs (brightness temp)"
   ]
  },
  {
   "cell_type": "markdown",
   "metadata": {},
   "source": [
    "UM (monthly): Task 1,2\n",
    "MLS (monthly): Task 1,2\n",
    "\n",
    "UM (hourly): Task 3-5\n",
    "MLS (hourly): Task 3-5\n",
    "AIRS (hourly): "
   ]
  },
  {
   "cell_type": "markdown",
   "metadata": {},
   "source": [
    "## Code\n",
    "Setup"
   ]
  },
  {
   "cell_type": "code",
   "execution_count": 3,
   "metadata": {},
   "outputs": [],
   "source": [
    "import metpy\n",
    "import cartopy.crs as ccrs\n",
    "import cartopy.feature as cfeature\n",
    "import matplotlib.pyplot as plt\n",
    "import numpy as np\n",
    "import xarray as xr\n",
    "import scipy.stats as sst\n",
    "import dask\n",
    "import os\n",
    "import glob\n",
    "import below_god as bg\n",
    "import seaborn as sns\n",
    "\n",
    "from metpy.interpolate import log_interpolate_1d\n",
    "from metpy.units import units\n",
    "from netCDF4 import MFDataset, Dataset, num2date\n",
    "from pydap.client import open_url"
   ]
  },
  {
   "cell_type": "code",
   "execution_count": 41,
   "metadata": {},
   "outputs": [],
   "source": [
    "# Conversion factors\n",
    "hPa_to_Pa = 100\n",
    "kgkg_to_ppmv = 1.608 * 10 ** 6\n",
    "VMR_to_ppmv = 10 ** 6\n",
    "\n",
    "# Monsoon region coordinates (format: [lon1,lon2,lat1,lat2])\n",
    "# Asian Monsoon\n",
    "AM_coords = [20, 160,-10,50]\n",
    "AM_box = [[20,40],[40,140]]\n",
    "\n",
    "# North American Monsoon\n",
    "NAM_coords = [-140,-40,-10,50]\n",
    "NAM_box = [[-10,40],[-140,60]]"
   ]
  },
  {
   "cell_type": "markdown",
   "metadata": {},
   "source": [
    "AIRS data (yearly)"
   ]
  },
  {
   "cell_type": "code",
   "execution_count": 5,
   "metadata": {},
   "outputs": [],
   "source": [
    "# Starting with yearly\n",
    "# TODO: When code is confirmed to work, set to daily and re-run after JPL work hours."
   ]
  },
  {
   "cell_type": "code",
   "execution_count": 6,
   "metadata": {},
   "outputs": [
    {
     "name": "stdout",
     "output_type": "stream",
     "text": [
      "Beginning loop. Runtime: 9 sec per file. (2-4 min for yearly data; 70 min for daily data.\n",
      "/data/airs/AIRX3STD/v7/2003/AIRS.2003.08.15.L3.RetStd001.v7.0.3.0.G20202222706.hdf\n",
      "/data/airs/AIRX3STD/v7/2004/AIRS.2004.08.15.L3.RetStd001.v7.0.3.0.G20195222930.hdf\n",
      "/data/airs/AIRX3STD/v7/2005/AIRS.2005.08.15.L3.RetStd001.v7.0.3.0.G20194175526.hdf\n",
      "/data/airs/AIRX3STD/v7/2006/AIRS.2006.08.15.L3.RetStd001.v7.0.3.0.G20193130345.hdf\n",
      "/data/airs/AIRX3STD/v7/2007/AIRS.2007.08.15.L3.RetStd001.v7.0.3.0.G20192120413.hdf\n",
      "/data/airs/AIRX3STD/v7/2008/AIRS.2008.08.15.L3.RetStd001.v7.0.3.0.G20191235723.hdf\n",
      "/data/airs/AIRX3STD/v7/2009/AIRS.2009.08.15.L3.RetStd001.v7.0.3.0.G20191120349.hdf\n",
      "/data/airs/AIRX3STD/v7/2010/AIRS.2010.08.15.L3.RetStd001.v7.0.3.0.G20185230916.hdf\n",
      "/data/airs/AIRX3STD/v7/2011/AIRS.2011.08.15.L3.RetStd001.v7.0.3.0.G20184153420.hdf\n",
      "/data/airs/AIRX3STD/v7/2012/AIRS.2012.08.15.L3.RetStd001.v7.0.3.0.G20183101552.hdf\n",
      "/data/airs/AIRX3STD/v7/2013/AIRS.2013.08.15.L3.RetStd001.v7.0.3.0.G20181235357.hdf\n",
      "/data/airs/AIRX3STD/v7/2014/AIRS.2014.08.15.L3.RetStd001.v7.0.3.0.G20179175743.hdf\n",
      "/data/airs/AIRX3STD/v7/2015/AIRS.2015.08.15.L3.RetStd001.v7.0.3.0.G20178015757.hdf\n",
      "/data/airs/AIRX3STD/v7/2016/AIRS.2016.08.15.L3.RetStd001.v7.0.3.0.G20176225606.hdf\n"
     ]
    },
    {
     "ename": "KeyboardInterrupt",
     "evalue": "",
     "output_type": "error",
     "traceback": [
      "\u001b[0;31m---------------------------------------------------------------------------\u001b[0m",
      "\u001b[0;31mKeyboardInterrupt\u001b[0m                         Traceback (most recent call last)",
      "Cell \u001b[0;32mIn[6], line 13\u001b[0m\n\u001b[1;32m     11\u001b[0m \u001b[39mprint\u001b[39m(file)\n\u001b[1;32m     12\u001b[0m AIRS_file_names\u001b[39m.\u001b[39mappend(file)\n\u001b[0;32m---> 13\u001b[0m AIRS_data_yrly \u001b[39m=\u001b[39m xr\u001b[39m.\u001b[39;49mconcat([AIRS_data_yrly, xr\u001b[39m.\u001b[39;49mopen_dataset(xr\u001b[39m.\u001b[39;49mbackends\u001b[39m.\u001b[39;49mNetCDF4DataStore(Dataset(file)))], dim\u001b[39m=\u001b[39;49m\u001b[39m\"\u001b[39;49m\u001b[39mtime\u001b[39;49m\u001b[39m\"\u001b[39;49m)\n",
      "File \u001b[0;32m~/.conda/envs/jsip/lib/python3.9/site-packages/xarray/core/concat.py:238\u001b[0m, in \u001b[0;36mconcat\u001b[0;34m(objs, dim, data_vars, coords, compat, positions, fill_value, join, combine_attrs)\u001b[0m\n\u001b[1;32m    233\u001b[0m \u001b[39melse\u001b[39;00m:\n\u001b[1;32m    234\u001b[0m     \u001b[39mraise\u001b[39;00m \u001b[39mTypeError\u001b[39;00m(\n\u001b[1;32m    235\u001b[0m         \u001b[39m\"\u001b[39m\u001b[39mcan only concatenate xarray Dataset and DataArray \u001b[39m\u001b[39m\"\u001b[39m\n\u001b[1;32m    236\u001b[0m         \u001b[39mf\u001b[39m\u001b[39m\"\u001b[39m\u001b[39mobjects, got \u001b[39m\u001b[39m{\u001b[39;00m\u001b[39mtype\u001b[39m(first_obj)\u001b[39m}\u001b[39;00m\u001b[39m\"\u001b[39m\n\u001b[1;32m    237\u001b[0m     )\n\u001b[0;32m--> 238\u001b[0m \u001b[39mreturn\u001b[39;00m f(\n\u001b[1;32m    239\u001b[0m     objs, dim, data_vars, coords, compat, positions, fill_value, join, combine_attrs\n\u001b[1;32m    240\u001b[0m )\n",
      "File \u001b[0;32m~/.conda/envs/jsip/lib/python3.9/site-packages/xarray/core/concat.py:517\u001b[0m, in \u001b[0;36m_dataset_concat\u001b[0;34m(datasets, dim, data_vars, coords, compat, positions, fill_value, join, combine_attrs)\u001b[0m\n\u001b[1;32m    515\u001b[0m \u001b[39mexcept\u001b[39;00m \u001b[39mKeyError\u001b[39;00m:\n\u001b[1;32m    516\u001b[0m     \u001b[39mraise\u001b[39;00m \u001b[39mValueError\u001b[39;00m(\u001b[39mf\u001b[39m\u001b[39m\"\u001b[39m\u001b[39m{\u001b[39;00mk\u001b[39m!r}\u001b[39;00m\u001b[39m is not present in all datasets.\u001b[39m\u001b[39m\"\u001b[39m)\n\u001b[0;32m--> 517\u001b[0m combined \u001b[39m=\u001b[39m concat_vars(\u001b[39mvars\u001b[39;49m, dim, positions, combine_attrs\u001b[39m=\u001b[39;49mcombine_attrs)\n\u001b[1;32m    518\u001b[0m \u001b[39massert\u001b[39;00m \u001b[39misinstance\u001b[39m(combined, Variable)\n\u001b[1;32m    519\u001b[0m result_vars[k] \u001b[39m=\u001b[39m combined\n",
      "File \u001b[0;32m~/.conda/envs/jsip/lib/python3.9/site-packages/xarray/core/variable.py:2952\u001b[0m, in \u001b[0;36mconcat\u001b[0;34m(variables, dim, positions, shortcut, combine_attrs)\u001b[0m\n\u001b[1;32m   2950\u001b[0m     \u001b[39mreturn\u001b[39;00m IndexVariable\u001b[39m.\u001b[39mconcat(variables, dim, positions, shortcut, combine_attrs)\n\u001b[1;32m   2951\u001b[0m \u001b[39melse\u001b[39;00m:\n\u001b[0;32m-> 2952\u001b[0m     \u001b[39mreturn\u001b[39;00m Variable\u001b[39m.\u001b[39;49mconcat(variables, dim, positions, shortcut, combine_attrs)\n",
      "File \u001b[0;32m~/.conda/envs/jsip/lib/python3.9/site-packages/xarray/core/variable.py:1900\u001b[0m, in \u001b[0;36mVariable.concat\u001b[0;34m(cls, variables, dim, positions, shortcut, combine_attrs)\u001b[0m\n\u001b[1;32m   1898\u001b[0m axis \u001b[39m=\u001b[39m first_var\u001b[39m.\u001b[39mget_axis_num(dim)\n\u001b[1;32m   1899\u001b[0m dims \u001b[39m=\u001b[39m first_var\u001b[39m.\u001b[39mdims\n\u001b[0;32m-> 1900\u001b[0m data \u001b[39m=\u001b[39m duck_array_ops\u001b[39m.\u001b[39;49mconcatenate(arrays, axis\u001b[39m=\u001b[39;49maxis)\n\u001b[1;32m   1901\u001b[0m \u001b[39mif\u001b[39;00m positions \u001b[39mis\u001b[39;00m \u001b[39mnot\u001b[39;00m \u001b[39mNone\u001b[39;00m:\n\u001b[1;32m   1902\u001b[0m     \u001b[39m# TODO: deprecate this option -- we don't need it for groupby\u001b[39;00m\n\u001b[1;32m   1903\u001b[0m     \u001b[39m# any more.\u001b[39;00m\n\u001b[1;32m   1904\u001b[0m     indices \u001b[39m=\u001b[39m nputils\u001b[39m.\u001b[39minverse_permutation(np\u001b[39m.\u001b[39mconcatenate(positions))\n",
      "File \u001b[0;32m~/.conda/envs/jsip/lib/python3.9/site-packages/xarray/core/duck_array_ops.py:286\u001b[0m, in \u001b[0;36mconcatenate\u001b[0;34m(arrays, axis)\u001b[0m\n\u001b[1;32m    284\u001b[0m \u001b[39mdef\u001b[39;00m \u001b[39mconcatenate\u001b[39m(arrays, axis\u001b[39m=\u001b[39m\u001b[39m0\u001b[39m):\n\u001b[1;32m    285\u001b[0m \u001b[39m    \u001b[39m\u001b[39m\"\"\"concatenate() with better dtype promotion rules.\"\"\"\u001b[39;00m\n\u001b[0;32m--> 286\u001b[0m     \u001b[39mreturn\u001b[39;00m _concatenate(as_shared_dtype(arrays), axis\u001b[39m=\u001b[39;49maxis)\n",
      "\u001b[0;31mKeyboardInterrupt\u001b[0m: "
     ]
    }
   ],
   "source": [
    "AIRS_file_names = []\n",
    "AIRS_file1 = '/data/airs/AIRX3STD/v7/2003/AIRS.2003.08.15.L3.RetStd001.v7.0.3.0.G20202222706.hdf'\n",
    "AIRS_data_yrly = xr.open_dataset(xr.backends.NetCDF4DataStore(Dataset(AIRS_file1)))\n",
    "\n",
    "yearly_AIRS = '/data/airs/AIRX3STD/v7/*/AIRS.*.08.15.L3.RetStd001.v7.0.3.0.*.hdf'\n",
    "# daily_AIRS = '/data/airs/AIRX3STD/v7/*/AIRS.*.08.*.L3.RetStd001.v7.0.3.0.*.hdf'     # TODO: Include up to 09/08\n",
    "\n",
    "print(\"Beginning loop. Runtime: 9 sec per file. (2-4 min for yearly data; 70 min for daily data.\")\n",
    "\n",
    "for file in glob.glob(yearly_AIRS):\n",
    "    print(file)\n",
    "    AIRS_file_names.append(file)\n",
    "    AIRS_data_yrly = xr.concat([AIRS_data_yrly, xr.open_dataset(xr.backends.NetCDF4DataStore(Dataset(file)))], dim=\"time\")"
   ]
  },
  {
   "cell_type": "code",
   "execution_count": null,
   "metadata": {},
   "outputs": [],
   "source": [
    "AIRS_data = AIRS_data_yrly\n",
    "AIRS_prs = AIRS_data['StdPressureLev:ascending']"
   ]
  },
  {
   "cell_type": "code",
   "execution_count": null,
   "metadata": {},
   "outputs": [],
   "source": [
    "AIRS_data = AIRS_data_yrly.mean(dim='time')\n",
    "\n",
    "# Global Average \n",
    "# Average ascending/descending temperature\n",
    "AIRS_t_A = AIRS_data['Temperature_A'].mean(dim=['YDim:ascending', 'XDim:ascending', ])                              # Ascending orbit temperature\n",
    "AIRS_t_D = AIRS_data['Temperature_D'].mean(dim=['YDim:descending', 'XDim:descending'])                              # Descending orbit temperature\n",
    "AIRS_t = (AIRS_t_A.values + AIRS_t_D.values) / 2                                                                    # Average temperature\n",
    "AIRS_t_prs = (AIRS_t_A['StdPressureLev:ascending'].values + AIRS_t_D['StdPressureLev:descending'].values) / 2       # Temperature-associated pressure\n",
    "\n",
    "# Average ascending/descending moisture\n",
    "AIRS_h2o_A = AIRS_data['H2O_MMR_A'].mean(dim=['YDim:ascending', 'XDim:ascending'])                                  # Ascending orbit moisture\n",
    "AIRS_h2o_D = AIRS_data['H2O_MMR_D'].mean(dim=['YDim:descending', 'XDim:descending'])                                # Descending orbit moisture\n",
    "AIRS_h2o = ((AIRS_h2o_A.values + AIRS_h2o_D.values) / 2) * kgkg_to_ppmv                                             # Average moisture\n",
    "AIRS_h2o_prs = (AIRS_h2o_A['H2OPressureLev:ascending'].values + AIRS_h2o_D['H2OPressureLev:descending'].values) / 2 # Moisture-associated pressure\n",
    "AIRS_h2o_prs = AIRS_h2o_prs"
   ]
  },
  {
   "cell_type": "markdown",
   "metadata": {},
   "source": [
    "AIRS/MLS: Pressure vs. moisture/temperature"
   ]
  },
  {
   "cell_type": "code",
   "execution_count": null,
   "metadata": {},
   "outputs": [],
   "source": [
    "# # Find MLS data where pressure < 300 hPa\n",
    "# MLS_prs_idxs_under300 = np.where(MLS_prs * hPa_to_Pa <= (300 + 50), np.arange(len(MLS_prs)), np.nan)       # Get list of indexes where MLS pressure < 300 hPa\n",
    "# MLS_prs_idxs_under300 = MLS_prs_idxs_under300[~np.isnan(MLS_prs_idxs_under300)].astype(int)                # Remove NaNs and convert values to integers in list\n",
    "# MLS_h2o_under300 = MLS_h2o.mean(dim=['Lat','Lon'])[MLS_prs_idxs_under300]                                  # Get corresponding moisture values\n",
    "\n",
    "# # Find AIRS data where pressure >= 300 hPa\n",
    "# AIRS_prs_idxs_over300 = np.where(AIRS_h2o_prs >= 300, np.arange(len(AIRS_h2o_prs)), np.nan)               # Get list of indexes where AIRS pressure >= 300 hPa\n",
    "# AIRS_prs_idxs_over300 = AIRS_prs_idxs_over300[~np.isnan(AIRS_prs_idxs_over300)].astype(int)             # Remove NaNs and convert values to integers in list\n",
    "# AIRS_h2o_over300 = AIRS_h2o[AIRS_prs_idxs_over300]   "
   ]
  },
  {
   "cell_type": "markdown",
   "metadata": {},
   "source": [
    "UM Data"
   ]
  },
  {
   "cell_type": "code",
   "execution_count": 10,
   "metadata": {},
   "outputs": [
    {
     "name": "stdout",
     "output_type": "stream",
     "text": [
      "UM data read.\n"
     ]
    }
   ],
   "source": [
    "# Folder containing data\n",
    "path = '/nas/bigdata_static/longtaow/'\n",
    "\n",
    "# Read in UM data\n",
    "UM_data_hus = xr.open_mfdataset(path+'DYAMOND/Monsoon/hus/*.nc', parallel=True)     # Moisture (kg/kg)\n",
    "UM_data_prs = xr.open_mfdataset(path+'DYAMOND/Monsoon/pfull/*.nc', parallel=True)   # Pressure (Pa)\n",
    "UM_data_ta = xr.open_mfdataset(path+'DYAMOND/Monsoon/ta/*.nc', parallel=True)       # Temperature (C)\n",
    "\n",
    "print(\"UM data read.\")\n",
    "\n",
    "# Temporal average\n",
    "UM_avg_prs = UM_data_prs.mean(dim='time')     # Pressure\n",
    "UM_avg_hus = UM_data_hus.mean(dim='time')     # Moisture\n",
    "UM_avg_ta = UM_data_ta.mean(dim='time')     # Temperature\n",
    "\n",
    "\n",
    "# Model level number start/end indexes enclosing 100 hPa\n",
    "lv1, lv2 = 45, 55\n",
    "\n",
    "# Isolate pressure data variable\n",
    "UM_prs = UM_avg_prs['air_pressure'][:,lv1:lv2]\n",
    "\n",
    "# Isolate moisture data and convert units from kg/kg to ppmv\n",
    "UM_hus = UM_avg_hus['specific_humidity'][:,lv1:lv2] * kgkg_to_ppmv\n",
    "\n",
    "# Isolate temperature and convert units from K to °C\n",
    "UM_ta = UM_avg_ta['air_temperature']"
   ]
  },
  {
   "cell_type": "code",
   "execution_count": 48,
   "metadata": {},
   "outputs": [],
   "source": [
    "# Function that takes an average across a geographic range for an Xarray DataArray\n",
    "def GeogAvg(xarr, range=\"global\"):\n",
    "    if range == \"global\":\n",
    "        return xarr.mean(dim=['latitude','longitude'])\n",
    "    elif range == \"AM\":\n",
    "        return xarr.sel(latitude=slice(AM_coords[2],AM_coords[3])).sel(longitude=slice(AM_coords[0],AM_coords[1])).mean(dim=['latitude','longitude'])\n",
    "    elif range == \"NAM\":\n",
    "        return xarr.sel(latitude=slice(NAM_coords[2],NAM_coords[3])).sel(longitude=slice(NAM_coords[0],NAM_coords[1])).mean(dim=['latitude','longitude'])\n",
    "    else:\n",
    "        print(\"Not implemented, range must be set to 'global', 'AM', or 'NAM'.\")"
   ]
  },
  {
   "cell_type": "markdown",
   "metadata": {},
   "source": [
    "UM: Geographic Averages"
   ]
  },
  {
   "cell_type": "code",
   "execution_count": null,
   "metadata": {},
   "outputs": [],
   "source": [
    "UM_ta_NAM"
   ]
  },
  {
   "cell_type": "code",
   "execution_count": 52,
   "metadata": {},
   "outputs": [
    {
     "ename": "",
     "evalue": "",
     "output_type": "error",
     "traceback": [
      "\u001b[1;31mCannot execute code, session has been disposed. Please try restarting the Kernel."
     ]
    },
    {
     "ename": "",
     "evalue": "",
     "output_type": "error",
     "traceback": [
      "\u001b[1;31mThe Kernel crashed while executing code in the the current cell or a previous cell. Please review the code in the cell(s) to identify a possible cause of the failure. Click <a href='https://aka.ms/vscodeJupyterKernelCrash'>here</a> for more info. View Jupyter <a href='command:jupyter.viewOutput'>log</a> for further details."
     ]
    }
   ],
   "source": [
    "# # Global\n",
    "# UM_prs_globalavg = GeogAvg(UM_prs, \"global\")\n",
    "# UM_hus_globalavg = GeogAvg(UM_hus, \"global\")\n",
    "# UM_ta_globalavg = GeogAvg(UM_ta, \"global\")\n",
    "\n",
    "# # AM\n",
    "# UM_prs_AM = GeogAvg(UM_prs, \"AM\")\n",
    "# UM_hus_AM = GeogAvg(UM_hus, \"AM\")\n",
    "# UM_ta_AM = GeogAvg(UM_ta, \"AM\")\n",
    "\n",
    "# # NAM\n",
    "# UM_prs_NAM = GeogAvg(UM_prs, \"NAM\")\n",
    "# UM_hus_NAM = GeogAvg(UM_hus, \"NAM\")\n",
    "# UM_ta_NAM = GeogAvg(UM_ta, \"NAM\")\n",
    "\n",
    "UM_ta_NAM = UM_ta.mean(dim=['latitude','longitude'])\n",
    "UM_ta_NAM.values()"
   ]
  },
  {
   "cell_type": "markdown",
   "metadata": {},
   "source": [
    "## Figures"
   ]
  },
  {
   "cell_type": "markdown",
   "metadata": {},
   "source": [
    "Define coordinates for monsoon regions"
   ]
  },
  {
   "cell_type": "markdown",
   "metadata": {},
   "source": [
    "Labels for plotting"
   ]
  },
  {
   "cell_type": "code",
   "execution_count": null,
   "metadata": {},
   "outputs": [],
   "source": [
    "# All\n",
    "date_range = \"08/11/2016 — 09/08/2016\"\n",
    "\n",
    "# UM\n",
    "UM_name = \"Unified Model\"\n",
    "\n",
    "# MLS\n",
    "MLS_dates = \"08/2004 — 08/2022\"\n",
    "MLS_name = \"MLS\"\n",
    "\n",
    "# GPM_MERGIR\n",
    "GPM_name = \"GPM_MERGIR Data"
   ]
  },
  {
   "cell_type": "markdown",
   "metadata": {},
   "source": [
    "Functions for figure creation"
   ]
  },
  {
   "cell_type": "code",
   "execution_count": 33,
   "metadata": {},
   "outputs": [],
   "source": [
    "def CreateVertProfile(arr, arr_prs, arr2=0, arr2_prs=None, data_label=\"Moisture\", source=\"AIRS\", source2=\"MLS\", date_range=date_range, custom_units=None, full_AIRS=None, layer=\"all\"):\n",
    "    if data_label == \"Moisture\":\n",
    "        units = \"ppmv\"\n",
    "        color = \"darkblue\"\n",
    "    elif data_label == \"Temperature\":\n",
    "        units = \"°C\"\n",
    "        color = \"darkred\"\n",
    "    else:\n",
    "        units = custom_units\n",
    "\n",
    "        \n",
    "    if \"layer\" == \"UTLS\":\n",
    "        plt.ylim(50,300)\n",
    "        layer_label=\", Upper Troposphere/Lower Atmosphere only\"\n",
    "    else:\n",
    "        layer_label=\"\"\n",
    "\n",
    "\n",
    "    plt.title(f\"{source} Data: Vertical Profile of {data_label} ({units})\\nfor {date_range} {layer_label}\")\n",
    "    plt.ylabel(\"Pressure (hPa)\")\n",
    "    plt.xlabel(f\"{data_label} ({units})\")\n",
    "    plt.gca().invert_yaxis()\n",
    "\n",
    "    plt.plot(arr, arr_prs, label=source, color=color)\n",
    "\n",
    "    if np.array(arr2).any() == True:\n",
    "        plt.plot(arr2, arr2_prs, label=source2, color=\"gray\")\n",
    "        plt.legend()\n",
    "    if full_AIRS == True:\n",
    "        plt.plot(AIRS_h2o, AIRS_h2o_prs, label=\"AIRS (full)\", zorder=-1, alpha=1, linewidth=2, linestyle=\"--\", color=\"darkblue\")\n",
    "    plt.show()"
   ]
  },
  {
   "cell_type": "markdown",
   "metadata": {},
   "source": [
    "Task 3: Vertical profiles of pressure vs. temperature/moisture (UM, MLS)"
   ]
  },
  {
   "cell_type": "markdown",
   "metadata": {},
   "source": [
    "Global average, all atmospheric layers"
   ]
  },
  {
   "cell_type": "code",
   "execution_count": 35,
   "metadata": {},
   "outputs": [
    {
     "ename": "BrokenProcessPool",
     "evalue": "A process in the process pool was terminated abruptly while the future was running or pending.",
     "output_type": "error",
     "traceback": [
      "\u001b[0;31m---------------------------------------------------------------------------\u001b[0m",
      "\u001b[0;31mBrokenProcessPool\u001b[0m                         Traceback (most recent call last)",
      "Cell \u001b[0;32mIn[35], line 1\u001b[0m\n\u001b[0;32m----> 1\u001b[0m plt\u001b[39m.\u001b[39;49mplot(UM_hus_globalavg, UM_prs_globalavg)\n",
      "File \u001b[0;32m~/.conda/envs/jsip/lib/python3.9/site-packages/matplotlib/pyplot.py:2812\u001b[0m, in \u001b[0;36mplot\u001b[0;34m(scalex, scaley, data, *args, **kwargs)\u001b[0m\n\u001b[1;32m   2810\u001b[0m \u001b[39m@_copy_docstring_and_deprecators\u001b[39m(Axes\u001b[39m.\u001b[39mplot)\n\u001b[1;32m   2811\u001b[0m \u001b[39mdef\u001b[39;00m \u001b[39mplot\u001b[39m(\u001b[39m*\u001b[39margs, scalex\u001b[39m=\u001b[39m\u001b[39mTrue\u001b[39;00m, scaley\u001b[39m=\u001b[39m\u001b[39mTrue\u001b[39;00m, data\u001b[39m=\u001b[39m\u001b[39mNone\u001b[39;00m, \u001b[39m*\u001b[39m\u001b[39m*\u001b[39mkwargs):\n\u001b[0;32m-> 2812\u001b[0m     \u001b[39mreturn\u001b[39;00m gca()\u001b[39m.\u001b[39;49mplot(\n\u001b[1;32m   2813\u001b[0m         \u001b[39m*\u001b[39;49margs, scalex\u001b[39m=\u001b[39;49mscalex, scaley\u001b[39m=\u001b[39;49mscaley,\n\u001b[1;32m   2814\u001b[0m         \u001b[39m*\u001b[39;49m\u001b[39m*\u001b[39;49m({\u001b[39m\"\u001b[39;49m\u001b[39mdata\u001b[39;49m\u001b[39m\"\u001b[39;49m: data} \u001b[39mif\u001b[39;49;00m data \u001b[39mis\u001b[39;49;00m \u001b[39mnot\u001b[39;49;00m \u001b[39mNone\u001b[39;49;00m \u001b[39melse\u001b[39;49;00m {}), \u001b[39m*\u001b[39;49m\u001b[39m*\u001b[39;49mkwargs)\n",
      "File \u001b[0;32m~/.conda/envs/jsip/lib/python3.9/site-packages/matplotlib/axes/_axes.py:1688\u001b[0m, in \u001b[0;36mAxes.plot\u001b[0;34m(self, scalex, scaley, data, *args, **kwargs)\u001b[0m\n\u001b[1;32m   1445\u001b[0m \u001b[39m\u001b[39m\u001b[39m\"\"\"\u001b[39;00m\n\u001b[1;32m   1446\u001b[0m \u001b[39mPlot y versus x as lines and/or markers.\u001b[39;00m\n\u001b[1;32m   1447\u001b[0m \n\u001b[0;32m   (...)\u001b[0m\n\u001b[1;32m   1685\u001b[0m \u001b[39m(``'green'``) or hex strings (``'#008000'``).\u001b[39;00m\n\u001b[1;32m   1686\u001b[0m \u001b[39m\"\"\"\u001b[39;00m\n\u001b[1;32m   1687\u001b[0m kwargs \u001b[39m=\u001b[39m cbook\u001b[39m.\u001b[39mnormalize_kwargs(kwargs, mlines\u001b[39m.\u001b[39mLine2D)\n\u001b[0;32m-> 1688\u001b[0m lines \u001b[39m=\u001b[39m [\u001b[39m*\u001b[39m\u001b[39mself\u001b[39m\u001b[39m.\u001b[39m_get_lines(\u001b[39m*\u001b[39margs, data\u001b[39m=\u001b[39mdata, \u001b[39m*\u001b[39m\u001b[39m*\u001b[39mkwargs)]\n\u001b[1;32m   1689\u001b[0m \u001b[39mfor\u001b[39;00m line \u001b[39min\u001b[39;00m lines:\n\u001b[1;32m   1690\u001b[0m     \u001b[39mself\u001b[39m\u001b[39m.\u001b[39madd_line(line)\n",
      "File \u001b[0;32m~/.conda/envs/jsip/lib/python3.9/site-packages/matplotlib/axes/_base.py:311\u001b[0m, in \u001b[0;36m_process_plot_var_args.__call__\u001b[0;34m(self, data, *args, **kwargs)\u001b[0m\n\u001b[1;32m    309\u001b[0m     this \u001b[39m+\u001b[39m\u001b[39m=\u001b[39m args[\u001b[39m0\u001b[39m],\n\u001b[1;32m    310\u001b[0m     args \u001b[39m=\u001b[39m args[\u001b[39m1\u001b[39m:]\n\u001b[0;32m--> 311\u001b[0m \u001b[39myield from\u001b[39;00m \u001b[39mself\u001b[39;49m\u001b[39m.\u001b[39;49m_plot_args(\n\u001b[1;32m    312\u001b[0m     this, kwargs, ambiguous_fmt_datakey\u001b[39m=\u001b[39;49mambiguous_fmt_datakey)\n",
      "File \u001b[0;32m~/.conda/envs/jsip/lib/python3.9/site-packages/matplotlib/axes/_base.py:493\u001b[0m, in \u001b[0;36m_process_plot_var_args._plot_args\u001b[0;34m(self, tup, kwargs, return_kwargs, ambiguous_fmt_datakey)\u001b[0m\n\u001b[1;32m    490\u001b[0m         kw[prop_name] \u001b[39m=\u001b[39m val\n\u001b[1;32m    492\u001b[0m \u001b[39mif\u001b[39;00m \u001b[39mlen\u001b[39m(xy) \u001b[39m==\u001b[39m \u001b[39m2\u001b[39m:\n\u001b[0;32m--> 493\u001b[0m     x \u001b[39m=\u001b[39m _check_1d(xy[\u001b[39m0\u001b[39;49m])\n\u001b[1;32m    494\u001b[0m     y \u001b[39m=\u001b[39m _check_1d(xy[\u001b[39m1\u001b[39m])\n\u001b[1;32m    495\u001b[0m \u001b[39melse\u001b[39;00m:\n",
      "File \u001b[0;32m~/.conda/envs/jsip/lib/python3.9/site-packages/matplotlib/cbook/__init__.py:1341\u001b[0m, in \u001b[0;36m_check_1d\u001b[0;34m(x)\u001b[0m\n\u001b[1;32m   1339\u001b[0m \u001b[39m\u001b[39m\u001b[39m\"\"\"Convert scalars to 1D arrays; pass-through arrays as is.\"\"\"\u001b[39;00m\n\u001b[1;32m   1340\u001b[0m \u001b[39m# Unpack in case of e.g. Pandas or xarray object\u001b[39;00m\n\u001b[0;32m-> 1341\u001b[0m x \u001b[39m=\u001b[39m _unpack_to_numpy(x)\n\u001b[1;32m   1342\u001b[0m \u001b[39m# plot requires `shape` and `ndim`.  If passed an\u001b[39;00m\n\u001b[1;32m   1343\u001b[0m \u001b[39m# object that doesn't provide them, then force to numpy array.\u001b[39;00m\n\u001b[1;32m   1344\u001b[0m \u001b[39m# Note this will strip unit information.\u001b[39;00m\n\u001b[1;32m   1345\u001b[0m \u001b[39mif\u001b[39;00m (\u001b[39mnot\u001b[39;00m \u001b[39mhasattr\u001b[39m(x, \u001b[39m'\u001b[39m\u001b[39mshape\u001b[39m\u001b[39m'\u001b[39m) \u001b[39mor\u001b[39;00m\n\u001b[1;32m   1346\u001b[0m         \u001b[39mnot\u001b[39;00m \u001b[39mhasattr\u001b[39m(x, \u001b[39m'\u001b[39m\u001b[39mndim\u001b[39m\u001b[39m'\u001b[39m) \u001b[39mor\u001b[39;00m\n\u001b[1;32m   1347\u001b[0m         \u001b[39mlen\u001b[39m(x\u001b[39m.\u001b[39mshape) \u001b[39m<\u001b[39m \u001b[39m1\u001b[39m):\n",
      "File \u001b[0;32m~/.conda/envs/jsip/lib/python3.9/site-packages/matplotlib/cbook/__init__.py:2297\u001b[0m, in \u001b[0;36m_unpack_to_numpy\u001b[0;34m(x)\u001b[0m\n\u001b[1;32m   2294\u001b[0m     \u001b[39mreturn\u001b[39;00m x\n\u001b[1;32m   2295\u001b[0m \u001b[39mif\u001b[39;00m \u001b[39mhasattr\u001b[39m(x, \u001b[39m'\u001b[39m\u001b[39mto_numpy\u001b[39m\u001b[39m'\u001b[39m):\n\u001b[1;32m   2296\u001b[0m     \u001b[39m# Assume that any function to_numpy() do actually return a numpy array\u001b[39;00m\n\u001b[0;32m-> 2297\u001b[0m     \u001b[39mreturn\u001b[39;00m x\u001b[39m.\u001b[39;49mto_numpy()\n\u001b[1;32m   2298\u001b[0m \u001b[39mif\u001b[39;00m \u001b[39mhasattr\u001b[39m(x, \u001b[39m'\u001b[39m\u001b[39mvalues\u001b[39m\u001b[39m'\u001b[39m):\n\u001b[1;32m   2299\u001b[0m     xtmp \u001b[39m=\u001b[39m x\u001b[39m.\u001b[39mvalues\n",
      "File \u001b[0;32m~/.conda/envs/jsip/lib/python3.9/site-packages/xarray/core/dataarray.py:658\u001b[0m, in \u001b[0;36mDataArray.to_numpy\u001b[0;34m(self)\u001b[0m\n\u001b[1;32m    647\u001b[0m \u001b[39mdef\u001b[39;00m \u001b[39mto_numpy\u001b[39m(\u001b[39mself\u001b[39m) \u001b[39m-\u001b[39m\u001b[39m>\u001b[39m np\u001b[39m.\u001b[39mndarray:\n\u001b[1;32m    648\u001b[0m \u001b[39m    \u001b[39m\u001b[39m\"\"\"\u001b[39;00m\n\u001b[1;32m    649\u001b[0m \u001b[39m    Coerces wrapped data to numpy and returns a numpy.ndarray.\u001b[39;00m\n\u001b[1;32m    650\u001b[0m \n\u001b[0;32m   (...)\u001b[0m\n\u001b[1;32m    656\u001b[0m \u001b[39m    DataArray.data\u001b[39;00m\n\u001b[1;32m    657\u001b[0m \u001b[39m    \"\"\"\u001b[39;00m\n\u001b[0;32m--> 658\u001b[0m     \u001b[39mreturn\u001b[39;00m \u001b[39mself\u001b[39;49m\u001b[39m.\u001b[39;49mvariable\u001b[39m.\u001b[39;49mto_numpy()\n",
      "File \u001b[0;32m~/.conda/envs/jsip/lib/python3.9/site-packages/xarray/core/variable.py:1104\u001b[0m, in \u001b[0;36mVariable.to_numpy\u001b[0;34m(self)\u001b[0m\n\u001b[1;32m   1102\u001b[0m \u001b[39m# TODO first attempt to call .to_numpy() once some libraries implement it\u001b[39;00m\n\u001b[1;32m   1103\u001b[0m \u001b[39mif\u001b[39;00m \u001b[39misinstance\u001b[39m(data, dask_array_type):\n\u001b[0;32m-> 1104\u001b[0m     data \u001b[39m=\u001b[39m data\u001b[39m.\u001b[39;49mcompute()\n\u001b[1;32m   1105\u001b[0m \u001b[39mif\u001b[39;00m \u001b[39misinstance\u001b[39m(data, cupy_array_type):\n\u001b[1;32m   1106\u001b[0m     data \u001b[39m=\u001b[39m data\u001b[39m.\u001b[39mget()\n",
      "File \u001b[0;32m~/.conda/envs/jsip/lib/python3.9/site-packages/dask/base.py:310\u001b[0m, in \u001b[0;36mDaskMethodsMixin.compute\u001b[0;34m(self, **kwargs)\u001b[0m\n\u001b[1;32m    286\u001b[0m \u001b[39mdef\u001b[39;00m \u001b[39mcompute\u001b[39m(\u001b[39mself\u001b[39m, \u001b[39m*\u001b[39m\u001b[39m*\u001b[39mkwargs):\n\u001b[1;32m    287\u001b[0m \u001b[39m    \u001b[39m\u001b[39m\"\"\"Compute this dask collection\u001b[39;00m\n\u001b[1;32m    288\u001b[0m \n\u001b[1;32m    289\u001b[0m \u001b[39m    This turns a lazy Dask collection into its in-memory equivalent.\u001b[39;00m\n\u001b[0;32m   (...)\u001b[0m\n\u001b[1;32m    308\u001b[0m \u001b[39m    dask.compute\u001b[39;00m\n\u001b[1;32m    309\u001b[0m \u001b[39m    \"\"\"\u001b[39;00m\n\u001b[0;32m--> 310\u001b[0m     (result,) \u001b[39m=\u001b[39m compute(\u001b[39mself\u001b[39;49m, traverse\u001b[39m=\u001b[39;49m\u001b[39mFalse\u001b[39;49;00m, \u001b[39m*\u001b[39;49m\u001b[39m*\u001b[39;49mkwargs)\n\u001b[1;32m    311\u001b[0m     \u001b[39mreturn\u001b[39;00m result\n",
      "File \u001b[0;32m~/.conda/envs/jsip/lib/python3.9/site-packages/dask/base.py:595\u001b[0m, in \u001b[0;36mcompute\u001b[0;34m(traverse, optimize_graph, scheduler, get, *args, **kwargs)\u001b[0m\n\u001b[1;32m    592\u001b[0m     keys\u001b[39m.\u001b[39mappend(x\u001b[39m.\u001b[39m__dask_keys__())\n\u001b[1;32m    593\u001b[0m     postcomputes\u001b[39m.\u001b[39mappend(x\u001b[39m.\u001b[39m__dask_postcompute__())\n\u001b[0;32m--> 595\u001b[0m results \u001b[39m=\u001b[39m schedule(dsk, keys, \u001b[39m*\u001b[39;49m\u001b[39m*\u001b[39;49mkwargs)\n\u001b[1;32m    596\u001b[0m \u001b[39mreturn\u001b[39;00m repack([f(r, \u001b[39m*\u001b[39ma) \u001b[39mfor\u001b[39;00m r, (f, a) \u001b[39min\u001b[39;00m \u001b[39mzip\u001b[39m(results, postcomputes)])\n",
      "File \u001b[0;32m~/.conda/envs/jsip/lib/python3.9/site-packages/dask/multiprocessing.py:233\u001b[0m, in \u001b[0;36mget\u001b[0;34m(dsk, keys, num_workers, func_loads, func_dumps, optimize_graph, pool, initializer, chunksize, **kwargs)\u001b[0m\n\u001b[1;32m    228\u001b[0m \u001b[39m# Note former versions used a multiprocessing Manager to share\u001b[39;00m\n\u001b[1;32m    229\u001b[0m \u001b[39m# a Queue between parent and workers, but this is fragile on Windows\u001b[39;00m\n\u001b[1;32m    230\u001b[0m \u001b[39m# (issue #1652).\u001b[39;00m\n\u001b[1;32m    231\u001b[0m \u001b[39mtry\u001b[39;00m:\n\u001b[1;32m    232\u001b[0m     \u001b[39m# Run\u001b[39;00m\n\u001b[0;32m--> 233\u001b[0m     result \u001b[39m=\u001b[39m get_async(\n\u001b[1;32m    234\u001b[0m         pool\u001b[39m.\u001b[39;49msubmit,\n\u001b[1;32m    235\u001b[0m         pool\u001b[39m.\u001b[39;49m_max_workers,\n\u001b[1;32m    236\u001b[0m         dsk3,\n\u001b[1;32m    237\u001b[0m         keys,\n\u001b[1;32m    238\u001b[0m         get_id\u001b[39m=\u001b[39;49m_process_get_id,\n\u001b[1;32m    239\u001b[0m         dumps\u001b[39m=\u001b[39;49mdumps,\n\u001b[1;32m    240\u001b[0m         loads\u001b[39m=\u001b[39;49mloads,\n\u001b[1;32m    241\u001b[0m         pack_exception\u001b[39m=\u001b[39;49mpack_exception,\n\u001b[1;32m    242\u001b[0m         raise_exception\u001b[39m=\u001b[39;49mreraise,\n\u001b[1;32m    243\u001b[0m         chunksize\u001b[39m=\u001b[39;49mchunksize,\n\u001b[1;32m    244\u001b[0m         \u001b[39m*\u001b[39;49m\u001b[39m*\u001b[39;49mkwargs,\n\u001b[1;32m    245\u001b[0m     )\n\u001b[1;32m    246\u001b[0m \u001b[39mfinally\u001b[39;00m:\n\u001b[1;32m    247\u001b[0m     \u001b[39mif\u001b[39;00m cleanup:\n",
      "File \u001b[0;32m~/.conda/envs/jsip/lib/python3.9/site-packages/dask/local.py:500\u001b[0m, in \u001b[0;36mget_async\u001b[0;34m(submit, num_workers, dsk, result, cache, get_id, rerun_exceptions_locally, pack_exception, raise_exception, callbacks, dumps, loads, chunksize, **kwargs)\u001b[0m\n\u001b[1;32m    498\u001b[0m \u001b[39mwhile\u001b[39;00m state[\u001b[39m\"\u001b[39m\u001b[39mwaiting\u001b[39m\u001b[39m\"\u001b[39m] \u001b[39mor\u001b[39;00m state[\u001b[39m\"\u001b[39m\u001b[39mready\u001b[39m\u001b[39m\"\u001b[39m] \u001b[39mor\u001b[39;00m state[\u001b[39m\"\u001b[39m\u001b[39mrunning\u001b[39m\u001b[39m\"\u001b[39m]:\n\u001b[1;32m    499\u001b[0m     fire_tasks(chunksize)\n\u001b[0;32m--> 500\u001b[0m     \u001b[39mfor\u001b[39;00m key, res_info, failed \u001b[39min\u001b[39;00m queue_get(queue)\u001b[39m.\u001b[39;49mresult():\n\u001b[1;32m    501\u001b[0m         \u001b[39mif\u001b[39;00m failed:\n\u001b[1;32m    502\u001b[0m             exc, tb \u001b[39m=\u001b[39m loads(res_info)\n",
      "File \u001b[0;32m~/.conda/envs/jsip/lib/python3.9/concurrent/futures/_base.py:439\u001b[0m, in \u001b[0;36mFuture.result\u001b[0;34m(self, timeout)\u001b[0m\n\u001b[1;32m    437\u001b[0m     \u001b[39mraise\u001b[39;00m CancelledError()\n\u001b[1;32m    438\u001b[0m \u001b[39melif\u001b[39;00m \u001b[39mself\u001b[39m\u001b[39m.\u001b[39m_state \u001b[39m==\u001b[39m FINISHED:\n\u001b[0;32m--> 439\u001b[0m     \u001b[39mreturn\u001b[39;00m \u001b[39mself\u001b[39;49m\u001b[39m.\u001b[39;49m__get_result()\n\u001b[1;32m    441\u001b[0m \u001b[39mself\u001b[39m\u001b[39m.\u001b[39m_condition\u001b[39m.\u001b[39mwait(timeout)\n\u001b[1;32m    443\u001b[0m \u001b[39mif\u001b[39;00m \u001b[39mself\u001b[39m\u001b[39m.\u001b[39m_state \u001b[39min\u001b[39;00m [CANCELLED, CANCELLED_AND_NOTIFIED]:\n",
      "File \u001b[0;32m~/.conda/envs/jsip/lib/python3.9/concurrent/futures/_base.py:391\u001b[0m, in \u001b[0;36mFuture.__get_result\u001b[0;34m(self)\u001b[0m\n\u001b[1;32m    389\u001b[0m \u001b[39mif\u001b[39;00m \u001b[39mself\u001b[39m\u001b[39m.\u001b[39m_exception:\n\u001b[1;32m    390\u001b[0m     \u001b[39mtry\u001b[39;00m:\n\u001b[0;32m--> 391\u001b[0m         \u001b[39mraise\u001b[39;00m \u001b[39mself\u001b[39m\u001b[39m.\u001b[39m_exception\n\u001b[1;32m    392\u001b[0m     \u001b[39mfinally\u001b[39;00m:\n\u001b[1;32m    393\u001b[0m         \u001b[39m# Break a reference cycle with the exception in self._exception\u001b[39;00m\n\u001b[1;32m    394\u001b[0m         \u001b[39mself\u001b[39m \u001b[39m=\u001b[39m \u001b[39mNone\u001b[39;00m\n",
      "\u001b[0;31mBrokenProcessPool\u001b[0m: A process in the process pool was terminated abruptly while the future was running or pending."
     ]
    },
    {
     "data": {
      "image/png": "[encoded data removed]",
      "text/plain": [
       "<Figure size 640x480 with 1 Axes>"
      ]
     },
     "metadata": {},
     "output_type": "display_data"
    }
   ],
   "source": [
    "plt.plot(UM_hus_globalavg, UM_prs_globalavg)"
   ]
  },
  {
   "cell_type": "code",
   "execution_count": 34,
   "metadata": {},
   "outputs": [
    {
     "ename": "BrokenProcessPool",
     "evalue": "A process in the process pool was terminated abruptly while the future was running or pending.",
     "output_type": "error",
     "traceback": [
      "\u001b[0;31m---------------------------------------------------------------------------\u001b[0m",
      "\u001b[0;31mBrokenProcessPool\u001b[0m                         Traceback (most recent call last)",
      "Cell \u001b[0;32mIn[34], line 4\u001b[0m\n\u001b[1;32m      1\u001b[0m \u001b[39m# Global average\u001b[39;00m\n\u001b[1;32m      2\u001b[0m \u001b[39m# Pressure vs. Moisture (MLS/AIRS)\u001b[39;00m\n\u001b[1;32m      3\u001b[0m \u001b[39m# CreateVertProfile(AIRS_h2o, AIRS_h2o_prs, UM_hus, UM_prs)   # TODO: Add MLS data\u001b[39;00m\n\u001b[0;32m----> 4\u001b[0m CreateVertProfile(UM_hus_globalavg, UM_prs_globalavg)\n\u001b[1;32m      6\u001b[0m \u001b[39m# Pressure vs. Temperature  (AIRS)\u001b[39;00m\n\u001b[1;32m      7\u001b[0m \u001b[39m# CreateVertProfile(AIRS_t-273.15, AIRS_t_prs, data_label=\"Temperature\")\u001b[39;00m\n\u001b[1;32m      8\u001b[0m \u001b[39m# CreateVertProfile(UM_t, UM_t_prs, data_label=\"Temperature\")\u001b[39;00m\n",
      "Cell \u001b[0;32mIn[33], line 24\u001b[0m, in \u001b[0;36mCreateVertProfile\u001b[0;34m(arr, arr_prs, arr2, arr2_prs, data_label, source, source2, date_range, custom_units, full_AIRS, layer)\u001b[0m\n\u001b[1;32m     21\u001b[0m plt\u001b[39m.\u001b[39mxlabel(\u001b[39mf\u001b[39m\u001b[39m\"\u001b[39m\u001b[39m{\u001b[39;00mdata_label\u001b[39m}\u001b[39;00m\u001b[39m (\u001b[39m\u001b[39m{\u001b[39;00munits\u001b[39m}\u001b[39;00m\u001b[39m)\u001b[39m\u001b[39m\"\u001b[39m)\n\u001b[1;32m     22\u001b[0m plt\u001b[39m.\u001b[39mgca()\u001b[39m.\u001b[39minvert_yaxis()\n\u001b[0;32m---> 24\u001b[0m plt\u001b[39m.\u001b[39;49mplot(arr, arr_prs, label\u001b[39m=\u001b[39;49msource, color\u001b[39m=\u001b[39;49mcolor)\n\u001b[1;32m     26\u001b[0m \u001b[39mif\u001b[39;00m np\u001b[39m.\u001b[39marray(arr2)\u001b[39m.\u001b[39many() \u001b[39m==\u001b[39m \u001b[39mTrue\u001b[39;00m:\n\u001b[1;32m     27\u001b[0m     plt\u001b[39m.\u001b[39mplot(arr2, arr2_prs, label\u001b[39m=\u001b[39msource2, color\u001b[39m=\u001b[39m\u001b[39m\"\u001b[39m\u001b[39mgray\u001b[39m\u001b[39m\"\u001b[39m)\n",
      "File \u001b[0;32m~/.conda/envs/jsip/lib/python3.9/site-packages/matplotlib/pyplot.py:2812\u001b[0m, in \u001b[0;36mplot\u001b[0;34m(scalex, scaley, data, *args, **kwargs)\u001b[0m\n\u001b[1;32m   2810\u001b[0m \u001b[39m@_copy_docstring_and_deprecators\u001b[39m(Axes\u001b[39m.\u001b[39mplot)\n\u001b[1;32m   2811\u001b[0m \u001b[39mdef\u001b[39;00m \u001b[39mplot\u001b[39m(\u001b[39m*\u001b[39margs, scalex\u001b[39m=\u001b[39m\u001b[39mTrue\u001b[39;00m, scaley\u001b[39m=\u001b[39m\u001b[39mTrue\u001b[39;00m, data\u001b[39m=\u001b[39m\u001b[39mNone\u001b[39;00m, \u001b[39m*\u001b[39m\u001b[39m*\u001b[39mkwargs):\n\u001b[0;32m-> 2812\u001b[0m     \u001b[39mreturn\u001b[39;00m gca()\u001b[39m.\u001b[39;49mplot(\n\u001b[1;32m   2813\u001b[0m         \u001b[39m*\u001b[39;49margs, scalex\u001b[39m=\u001b[39;49mscalex, scaley\u001b[39m=\u001b[39;49mscaley,\n\u001b[1;32m   2814\u001b[0m         \u001b[39m*\u001b[39;49m\u001b[39m*\u001b[39;49m({\u001b[39m\"\u001b[39;49m\u001b[39mdata\u001b[39;49m\u001b[39m\"\u001b[39;49m: data} \u001b[39mif\u001b[39;49;00m data \u001b[39mis\u001b[39;49;00m \u001b[39mnot\u001b[39;49;00m \u001b[39mNone\u001b[39;49;00m \u001b[39melse\u001b[39;49;00m {}), \u001b[39m*\u001b[39;49m\u001b[39m*\u001b[39;49mkwargs)\n",
      "File \u001b[0;32m~/.conda/envs/jsip/lib/python3.9/site-packages/matplotlib/axes/_axes.py:1688\u001b[0m, in \u001b[0;36mAxes.plot\u001b[0;34m(self, scalex, scaley, data, *args, **kwargs)\u001b[0m\n\u001b[1;32m   1445\u001b[0m \u001b[39m\u001b[39m\u001b[39m\"\"\"\u001b[39;00m\n\u001b[1;32m   1446\u001b[0m \u001b[39mPlot y versus x as lines and/or markers.\u001b[39;00m\n\u001b[1;32m   1447\u001b[0m \n\u001b[0;32m   (...)\u001b[0m\n\u001b[1;32m   1685\u001b[0m \u001b[39m(``'green'``) or hex strings (``'#008000'``).\u001b[39;00m\n\u001b[1;32m   1686\u001b[0m \u001b[39m\"\"\"\u001b[39;00m\n\u001b[1;32m   1687\u001b[0m kwargs \u001b[39m=\u001b[39m cbook\u001b[39m.\u001b[39mnormalize_kwargs(kwargs, mlines\u001b[39m.\u001b[39mLine2D)\n\u001b[0;32m-> 1688\u001b[0m lines \u001b[39m=\u001b[39m [\u001b[39m*\u001b[39m\u001b[39mself\u001b[39m\u001b[39m.\u001b[39m_get_lines(\u001b[39m*\u001b[39margs, data\u001b[39m=\u001b[39mdata, \u001b[39m*\u001b[39m\u001b[39m*\u001b[39mkwargs)]\n\u001b[1;32m   1689\u001b[0m \u001b[39mfor\u001b[39;00m line \u001b[39min\u001b[39;00m lines:\n\u001b[1;32m   1690\u001b[0m     \u001b[39mself\u001b[39m\u001b[39m.\u001b[39madd_line(line)\n",
      "File \u001b[0;32m~/.conda/envs/jsip/lib/python3.9/site-packages/matplotlib/axes/_base.py:311\u001b[0m, in \u001b[0;36m_process_plot_var_args.__call__\u001b[0;34m(self, data, *args, **kwargs)\u001b[0m\n\u001b[1;32m    309\u001b[0m     this \u001b[39m+\u001b[39m\u001b[39m=\u001b[39m args[\u001b[39m0\u001b[39m],\n\u001b[1;32m    310\u001b[0m     args \u001b[39m=\u001b[39m args[\u001b[39m1\u001b[39m:]\n\u001b[0;32m--> 311\u001b[0m \u001b[39myield from\u001b[39;00m \u001b[39mself\u001b[39;49m\u001b[39m.\u001b[39;49m_plot_args(\n\u001b[1;32m    312\u001b[0m     this, kwargs, ambiguous_fmt_datakey\u001b[39m=\u001b[39;49mambiguous_fmt_datakey)\n",
      "File \u001b[0;32m~/.conda/envs/jsip/lib/python3.9/site-packages/matplotlib/axes/_base.py:493\u001b[0m, in \u001b[0;36m_process_plot_var_args._plot_args\u001b[0;34m(self, tup, kwargs, return_kwargs, ambiguous_fmt_datakey)\u001b[0m\n\u001b[1;32m    490\u001b[0m         kw[prop_name] \u001b[39m=\u001b[39m val\n\u001b[1;32m    492\u001b[0m \u001b[39mif\u001b[39;00m \u001b[39mlen\u001b[39m(xy) \u001b[39m==\u001b[39m \u001b[39m2\u001b[39m:\n\u001b[0;32m--> 493\u001b[0m     x \u001b[39m=\u001b[39m _check_1d(xy[\u001b[39m0\u001b[39;49m])\n\u001b[1;32m    494\u001b[0m     y \u001b[39m=\u001b[39m _check_1d(xy[\u001b[39m1\u001b[39m])\n\u001b[1;32m    495\u001b[0m \u001b[39melse\u001b[39;00m:\n",
      "File \u001b[0;32m~/.conda/envs/jsip/lib/python3.9/site-packages/matplotlib/cbook/__init__.py:1341\u001b[0m, in \u001b[0;36m_check_1d\u001b[0;34m(x)\u001b[0m\n\u001b[1;32m   1339\u001b[0m \u001b[39m\u001b[39m\u001b[39m\"\"\"Convert scalars to 1D arrays; pass-through arrays as is.\"\"\"\u001b[39;00m\n\u001b[1;32m   1340\u001b[0m \u001b[39m# Unpack in case of e.g. Pandas or xarray object\u001b[39;00m\n\u001b[0;32m-> 1341\u001b[0m x \u001b[39m=\u001b[39m _unpack_to_numpy(x)\n\u001b[1;32m   1342\u001b[0m \u001b[39m# plot requires `shape` and `ndim`.  If passed an\u001b[39;00m\n\u001b[1;32m   1343\u001b[0m \u001b[39m# object that doesn't provide them, then force to numpy array.\u001b[39;00m\n\u001b[1;32m   1344\u001b[0m \u001b[39m# Note this will strip unit information.\u001b[39;00m\n\u001b[1;32m   1345\u001b[0m \u001b[39mif\u001b[39;00m (\u001b[39mnot\u001b[39;00m \u001b[39mhasattr\u001b[39m(x, \u001b[39m'\u001b[39m\u001b[39mshape\u001b[39m\u001b[39m'\u001b[39m) \u001b[39mor\u001b[39;00m\n\u001b[1;32m   1346\u001b[0m         \u001b[39mnot\u001b[39;00m \u001b[39mhasattr\u001b[39m(x, \u001b[39m'\u001b[39m\u001b[39mndim\u001b[39m\u001b[39m'\u001b[39m) \u001b[39mor\u001b[39;00m\n\u001b[1;32m   1347\u001b[0m         \u001b[39mlen\u001b[39m(x\u001b[39m.\u001b[39mshape) \u001b[39m<\u001b[39m \u001b[39m1\u001b[39m):\n",
      "File \u001b[0;32m~/.conda/envs/jsip/lib/python3.9/site-packages/matplotlib/cbook/__init__.py:2297\u001b[0m, in \u001b[0;36m_unpack_to_numpy\u001b[0;34m(x)\u001b[0m\n\u001b[1;32m   2294\u001b[0m     \u001b[39mreturn\u001b[39;00m x\n\u001b[1;32m   2295\u001b[0m \u001b[39mif\u001b[39;00m \u001b[39mhasattr\u001b[39m(x, \u001b[39m'\u001b[39m\u001b[39mto_numpy\u001b[39m\u001b[39m'\u001b[39m):\n\u001b[1;32m   2296\u001b[0m     \u001b[39m# Assume that any function to_numpy() do actually return a numpy array\u001b[39;00m\n\u001b[0;32m-> 2297\u001b[0m     \u001b[39mreturn\u001b[39;00m x\u001b[39m.\u001b[39;49mto_numpy()\n\u001b[1;32m   2298\u001b[0m \u001b[39mif\u001b[39;00m \u001b[39mhasattr\u001b[39m(x, \u001b[39m'\u001b[39m\u001b[39mvalues\u001b[39m\u001b[39m'\u001b[39m):\n\u001b[1;32m   2299\u001b[0m     xtmp \u001b[39m=\u001b[39m x\u001b[39m.\u001b[39mvalues\n",
      "File \u001b[0;32m~/.conda/envs/jsip/lib/python3.9/site-packages/xarray/core/dataarray.py:658\u001b[0m, in \u001b[0;36mDataArray.to_numpy\u001b[0;34m(self)\u001b[0m\n\u001b[1;32m    647\u001b[0m \u001b[39mdef\u001b[39;00m \u001b[39mto_numpy\u001b[39m(\u001b[39mself\u001b[39m) \u001b[39m-\u001b[39m\u001b[39m>\u001b[39m np\u001b[39m.\u001b[39mndarray:\n\u001b[1;32m    648\u001b[0m \u001b[39m    \u001b[39m\u001b[39m\"\"\"\u001b[39;00m\n\u001b[1;32m    649\u001b[0m \u001b[39m    Coerces wrapped data to numpy and returns a numpy.ndarray.\u001b[39;00m\n\u001b[1;32m    650\u001b[0m \n\u001b[0;32m   (...)\u001b[0m\n\u001b[1;32m    656\u001b[0m \u001b[39m    DataArray.data\u001b[39;00m\n\u001b[1;32m    657\u001b[0m \u001b[39m    \"\"\"\u001b[39;00m\n\u001b[0;32m--> 658\u001b[0m     \u001b[39mreturn\u001b[39;00m \u001b[39mself\u001b[39;49m\u001b[39m.\u001b[39;49mvariable\u001b[39m.\u001b[39;49mto_numpy()\n",
      "File \u001b[0;32m~/.conda/envs/jsip/lib/python3.9/site-packages/xarray/core/variable.py:1104\u001b[0m, in \u001b[0;36mVariable.to_numpy\u001b[0;34m(self)\u001b[0m\n\u001b[1;32m   1102\u001b[0m \u001b[39m# TODO first attempt to call .to_numpy() once some libraries implement it\u001b[39;00m\n\u001b[1;32m   1103\u001b[0m \u001b[39mif\u001b[39;00m \u001b[39misinstance\u001b[39m(data, dask_array_type):\n\u001b[0;32m-> 1104\u001b[0m     data \u001b[39m=\u001b[39m data\u001b[39m.\u001b[39;49mcompute()\n\u001b[1;32m   1105\u001b[0m \u001b[39mif\u001b[39;00m \u001b[39misinstance\u001b[39m(data, cupy_array_type):\n\u001b[1;32m   1106\u001b[0m     data \u001b[39m=\u001b[39m data\u001b[39m.\u001b[39mget()\n",
      "File \u001b[0;32m~/.conda/envs/jsip/lib/python3.9/site-packages/dask/base.py:310\u001b[0m, in \u001b[0;36mDaskMethodsMixin.compute\u001b[0;34m(self, **kwargs)\u001b[0m\n\u001b[1;32m    286\u001b[0m \u001b[39mdef\u001b[39;00m \u001b[39mcompute\u001b[39m(\u001b[39mself\u001b[39m, \u001b[39m*\u001b[39m\u001b[39m*\u001b[39mkwargs):\n\u001b[1;32m    287\u001b[0m \u001b[39m    \u001b[39m\u001b[39m\"\"\"Compute this dask collection\u001b[39;00m\n\u001b[1;32m    288\u001b[0m \n\u001b[1;32m    289\u001b[0m \u001b[39m    This turns a lazy Dask collection into its in-memory equivalent.\u001b[39;00m\n\u001b[0;32m   (...)\u001b[0m\n\u001b[1;32m    308\u001b[0m \u001b[39m    dask.compute\u001b[39;00m\n\u001b[1;32m    309\u001b[0m \u001b[39m    \"\"\"\u001b[39;00m\n\u001b[0;32m--> 310\u001b[0m     (result,) \u001b[39m=\u001b[39m compute(\u001b[39mself\u001b[39;49m, traverse\u001b[39m=\u001b[39;49m\u001b[39mFalse\u001b[39;49;00m, \u001b[39m*\u001b[39;49m\u001b[39m*\u001b[39;49mkwargs)\n\u001b[1;32m    311\u001b[0m     \u001b[39mreturn\u001b[39;00m result\n",
      "File \u001b[0;32m~/.conda/envs/jsip/lib/python3.9/site-packages/dask/base.py:595\u001b[0m, in \u001b[0;36mcompute\u001b[0;34m(traverse, optimize_graph, scheduler, get, *args, **kwargs)\u001b[0m\n\u001b[1;32m    592\u001b[0m     keys\u001b[39m.\u001b[39mappend(x\u001b[39m.\u001b[39m__dask_keys__())\n\u001b[1;32m    593\u001b[0m     postcomputes\u001b[39m.\u001b[39mappend(x\u001b[39m.\u001b[39m__dask_postcompute__())\n\u001b[0;32m--> 595\u001b[0m results \u001b[39m=\u001b[39m schedule(dsk, keys, \u001b[39m*\u001b[39;49m\u001b[39m*\u001b[39;49mkwargs)\n\u001b[1;32m    596\u001b[0m \u001b[39mreturn\u001b[39;00m repack([f(r, \u001b[39m*\u001b[39ma) \u001b[39mfor\u001b[39;00m r, (f, a) \u001b[39min\u001b[39;00m \u001b[39mzip\u001b[39m(results, postcomputes)])\n",
      "File \u001b[0;32m~/.conda/envs/jsip/lib/python3.9/site-packages/dask/multiprocessing.py:233\u001b[0m, in \u001b[0;36mget\u001b[0;34m(dsk, keys, num_workers, func_loads, func_dumps, optimize_graph, pool, initializer, chunksize, **kwargs)\u001b[0m\n\u001b[1;32m    228\u001b[0m \u001b[39m# Note former versions used a multiprocessing Manager to share\u001b[39;00m\n\u001b[1;32m    229\u001b[0m \u001b[39m# a Queue between parent and workers, but this is fragile on Windows\u001b[39;00m\n\u001b[1;32m    230\u001b[0m \u001b[39m# (issue #1652).\u001b[39;00m\n\u001b[1;32m    231\u001b[0m \u001b[39mtry\u001b[39;00m:\n\u001b[1;32m    232\u001b[0m     \u001b[39m# Run\u001b[39;00m\n\u001b[0;32m--> 233\u001b[0m     result \u001b[39m=\u001b[39m get_async(\n\u001b[1;32m    234\u001b[0m         pool\u001b[39m.\u001b[39;49msubmit,\n\u001b[1;32m    235\u001b[0m         pool\u001b[39m.\u001b[39;49m_max_workers,\n\u001b[1;32m    236\u001b[0m         dsk3,\n\u001b[1;32m    237\u001b[0m         keys,\n\u001b[1;32m    238\u001b[0m         get_id\u001b[39m=\u001b[39;49m_process_get_id,\n\u001b[1;32m    239\u001b[0m         dumps\u001b[39m=\u001b[39;49mdumps,\n\u001b[1;32m    240\u001b[0m         loads\u001b[39m=\u001b[39;49mloads,\n\u001b[1;32m    241\u001b[0m         pack_exception\u001b[39m=\u001b[39;49mpack_exception,\n\u001b[1;32m    242\u001b[0m         raise_exception\u001b[39m=\u001b[39;49mreraise,\n\u001b[1;32m    243\u001b[0m         chunksize\u001b[39m=\u001b[39;49mchunksize,\n\u001b[1;32m    244\u001b[0m         \u001b[39m*\u001b[39;49m\u001b[39m*\u001b[39;49mkwargs,\n\u001b[1;32m    245\u001b[0m     )\n\u001b[1;32m    246\u001b[0m \u001b[39mfinally\u001b[39;00m:\n\u001b[1;32m    247\u001b[0m     \u001b[39mif\u001b[39;00m cleanup:\n",
      "File \u001b[0;32m~/.conda/envs/jsip/lib/python3.9/site-packages/dask/local.py:500\u001b[0m, in \u001b[0;36mget_async\u001b[0;34m(submit, num_workers, dsk, result, cache, get_id, rerun_exceptions_locally, pack_exception, raise_exception, callbacks, dumps, loads, chunksize, **kwargs)\u001b[0m\n\u001b[1;32m    498\u001b[0m \u001b[39mwhile\u001b[39;00m state[\u001b[39m\"\u001b[39m\u001b[39mwaiting\u001b[39m\u001b[39m\"\u001b[39m] \u001b[39mor\u001b[39;00m state[\u001b[39m\"\u001b[39m\u001b[39mready\u001b[39m\u001b[39m\"\u001b[39m] \u001b[39mor\u001b[39;00m state[\u001b[39m\"\u001b[39m\u001b[39mrunning\u001b[39m\u001b[39m\"\u001b[39m]:\n\u001b[1;32m    499\u001b[0m     fire_tasks(chunksize)\n\u001b[0;32m--> 500\u001b[0m     \u001b[39mfor\u001b[39;00m key, res_info, failed \u001b[39min\u001b[39;00m queue_get(queue)\u001b[39m.\u001b[39;49mresult():\n\u001b[1;32m    501\u001b[0m         \u001b[39mif\u001b[39;00m failed:\n\u001b[1;32m    502\u001b[0m             exc, tb \u001b[39m=\u001b[39m loads(res_info)\n",
      "File \u001b[0;32m~/.conda/envs/jsip/lib/python3.9/concurrent/futures/_base.py:439\u001b[0m, in \u001b[0;36mFuture.result\u001b[0;34m(self, timeout)\u001b[0m\n\u001b[1;32m    437\u001b[0m     \u001b[39mraise\u001b[39;00m CancelledError()\n\u001b[1;32m    438\u001b[0m \u001b[39melif\u001b[39;00m \u001b[39mself\u001b[39m\u001b[39m.\u001b[39m_state \u001b[39m==\u001b[39m FINISHED:\n\u001b[0;32m--> 439\u001b[0m     \u001b[39mreturn\u001b[39;00m \u001b[39mself\u001b[39;49m\u001b[39m.\u001b[39;49m__get_result()\n\u001b[1;32m    441\u001b[0m \u001b[39mself\u001b[39m\u001b[39m.\u001b[39m_condition\u001b[39m.\u001b[39mwait(timeout)\n\u001b[1;32m    443\u001b[0m \u001b[39mif\u001b[39;00m \u001b[39mself\u001b[39m\u001b[39m.\u001b[39m_state \u001b[39min\u001b[39;00m [CANCELLED, CANCELLED_AND_NOTIFIED]:\n",
      "File \u001b[0;32m~/.conda/envs/jsip/lib/python3.9/concurrent/futures/_base.py:391\u001b[0m, in \u001b[0;36mFuture.__get_result\u001b[0;34m(self)\u001b[0m\n\u001b[1;32m    389\u001b[0m \u001b[39mif\u001b[39;00m \u001b[39mself\u001b[39m\u001b[39m.\u001b[39m_exception:\n\u001b[1;32m    390\u001b[0m     \u001b[39mtry\u001b[39;00m:\n\u001b[0;32m--> 391\u001b[0m         \u001b[39mraise\u001b[39;00m \u001b[39mself\u001b[39m\u001b[39m.\u001b[39m_exception\n\u001b[1;32m    392\u001b[0m     \u001b[39mfinally\u001b[39;00m:\n\u001b[1;32m    393\u001b[0m         \u001b[39m# Break a reference cycle with the exception in self._exception\u001b[39;00m\n\u001b[1;32m    394\u001b[0m         \u001b[39mself\u001b[39m \u001b[39m=\u001b[39m \u001b[39mNone\u001b[39;00m\n",
      "\u001b[0;31mBrokenProcessPool\u001b[0m: A process in the process pool was terminated abruptly while the future was running or pending."
     ]
    },
    {
     "data": {
      "image/png": "[encoded data removed]",
      "text/plain": [
       "<Figure size 640x480 with 1 Axes>"
      ]
     },
     "metadata": {},
     "output_type": "display_data"
    }
   ],
   "source": [
    "# Global average\n",
    "# Pressure vs. Moisture (MLS/AIRS)\n",
    "# CreateVertProfile(AIRS_h2o, AIRS_h2o_prs, UM_hus, UM_prs)   # TODO: Add MLS data\n",
    "CreateVertProfile(UM_hus_globalavg, UM_prs_globalavg)\n",
    "\n",
    "# Pressure vs. Temperature  (AIRS)\n",
    "# CreateVertProfile(AIRS_t-273.15, AIRS_t_prs, data_label=\"Temperature\")\n",
    "# CreateVertProfile(UM_t, UM_t_prs, data_label=\"Temperature\")"
   ]
  },
  {
   "cell_type": "markdown",
   "metadata": {},
   "source": [
    "Global average, UT/LS"
   ]
  },
  {
   "cell_type": "markdown",
   "metadata": {},
   "source": [
    "Asian Monsoon, all atmospheric layers"
   ]
  },
  {
   "cell_type": "markdown",
   "metadata": {},
   "source": [
    "Asian Monsoon, UT/LS"
   ]
  },
  {
   "cell_type": "markdown",
   "metadata": {},
   "source": [
    "North American Monsoon, all atmospheric layers"
   ]
  },
  {
   "cell_type": "markdown",
   "metadata": {},
   "source": [
    "North American Monsoon, UT/LS"
   ]
  }
 ],
 "metadata": {
  "kernelspec": {
   "display_name": "Python 3",
   "language": "python",
   "name": "python3"
  },
  "language_info": {
   "codemirror_mode": {
    "name": "ipython",
    "version": 3
   },
   "file_extension": ".py",
   "mimetype": "text/x-python",
   "name": "python",
   "nbconvert_exporter": "python",
   "pygments_lexer": "ipython3",
   "version": "3.9.17"
  },
  "orig_nbformat": 4
 },
 "nbformat": 4,
 "nbformat_minor": 2
}
