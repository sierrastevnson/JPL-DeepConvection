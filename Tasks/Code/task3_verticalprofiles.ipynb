{
 "cells": [
  {
   "cell_type": "markdown",
   "metadata": {},
   "source": [
    "## Tasks\n",
    "Assigned to Sierra Stevenson, JSIP intern under Dr. Jonathan Jiang and Dr. Longtao Wu<p>\n",
    "This analysis is intended to compare observed (MLS/AIRS/GPM_MERGIR) and simulated (UM) data to evaluate<br>how convection is resolved by storm-resolving models."
   ]
  },
  {
   "cell_type": "markdown",
   "metadata": {},
   "source": [
    "List of Tasks<p>\n",
    "[DONE]&nbsp;&nbsp;&nbsp;Task 1 — UM moisture at 100 hPa map<br>\n",
    "[DONE]&nbsp;&nbsp;&nbsp;Task 2 — MLS moisture at 100 hPa map<br>\n",
    "&nbsp;&nbsp;&nbsp;&nbsp;&nbsp;&nbsp;&nbsp;&nbsp;&nbsp;&nbsp;&nbsp;&nbsp;&nbsp;&nbsp;&nbsp;Task 3 — UM/MLS/AIRS vert. profiles pressure vs temp/moisture<br>\n",
    "&nbsp;&nbsp;&nbsp;&nbsp;&nbsp;&nbsp;&nbsp;&nbsp;&nbsp;&nbsp;&nbsp;&nbsp;&nbsp;&nbsp;&nbsp;Task 4 — UM/MLS PDFs (moisture)<br>\n",
    "&nbsp;&nbsp;&nbsp;&nbsp;&nbsp;&nbsp;&nbsp;&nbsp;&nbsp;&nbsp;&nbsp;&nbsp;&nbsp;&nbsp;&nbsp;Task 5 — UM/GPM_MERGIR PDFs (brightness temp)"
   ]
  },
  {
   "cell_type": "markdown",
   "metadata": {},
   "source": [
    "UM (monthly): Task 1,2\n",
    "MLS (monthly): Task 1,2\n",
    "\n",
    "UM (hourly): Task 3-5\n",
    "MLS (hourly): Task 3-5\n",
    "AIRS (hourly): "
   ]
  },
  {
   "cell_type": "markdown",
   "metadata": {},
   "source": [
    "## Code\n",
    "Setup"
   ]
  },
  {
   "cell_type": "code",
   "execution_count": 3,
   "metadata": {},
   "outputs": [],
   "source": [
    "import metpy\n",
    "import cartopy.crs as ccrs\n",
    "import cartopy.feature as cfeature\n",
    "import matplotlib.pyplot as plt\n",
    "import numpy as np\n",
    "import xarray as xr\n",
    "import scipy.stats as sst\n",
    "import dask\n",
    "import os\n",
    "import glob\n",
    "import below_god as bg\n",
    "import seaborn as sns\n",
    "\n",
    "from metpy.interpolate import log_interpolate_1d\n",
    "from metpy.units import units\n",
    "from netCDF4 import MFDataset, Dataset, num2date\n",
    "from pydap.client import open_url"
   ]
  },
  {
   "cell_type": "code",
   "execution_count": 4,
   "metadata": {},
   "outputs": [],
   "source": [
    "# Conversion factors\n",
    "hPa_to_Pa = 100\n",
    "kgkg_to_ppmv = 1.608 * 10 ** 6\n",
    "VMR_to_ppmv = 10 ** 6"
   ]
  },
  {
   "cell_type": "markdown",
   "metadata": {},
   "source": [
    "AIRS data (yearly)"
   ]
  },
  {
   "cell_type": "code",
   "execution_count": 8,
   "metadata": {},
   "outputs": [],
   "source": [
    "# Starting with yearly\n",
    "# TODO: When code is confirmed to work, set to daily and re-run after JPL work hours."
   ]
  },
  {
   "cell_type": "code",
   "execution_count": 9,
   "metadata": {},
   "outputs": [
    {
     "name": "stdout",
     "output_type": "stream",
     "text": [
      "Beginning loop. Runtime: 9 sec per file. (2-4 min for yearly data; 70 min for daily data.\n",
      "/data/airs/AIRX3STD/v7/2003/AIRS.2003.08.15.L3.RetStd001.v7.0.3.0.G20202222706.hdf\n",
      "/data/airs/AIRX3STD/v7/2004/AIRS.2004.08.15.L3.RetStd001.v7.0.3.0.G20195222930.hdf\n",
      "/data/airs/AIRX3STD/v7/2005/AIRS.2005.08.15.L3.RetStd001.v7.0.3.0.G20194175526.hdf\n",
      "/data/airs/AIRX3STD/v7/2006/AIRS.2006.08.15.L3.RetStd001.v7.0.3.0.G20193130345.hdf\n",
      "/data/airs/AIRX3STD/v7/2007/AIRS.2007.08.15.L3.RetStd001.v7.0.3.0.G20192120413.hdf\n",
      "/data/airs/AIRX3STD/v7/2008/AIRS.2008.08.15.L3.RetStd001.v7.0.3.0.G20191235723.hdf\n",
      "/data/airs/AIRX3STD/v7/2009/AIRS.2009.08.15.L3.RetStd001.v7.0.3.0.G20191120349.hdf\n",
      "/data/airs/AIRX3STD/v7/2010/AIRS.2010.08.15.L3.RetStd001.v7.0.3.0.G20185230916.hdf\n",
      "/data/airs/AIRX3STD/v7/2011/AIRS.2011.08.15.L3.RetStd001.v7.0.3.0.G20184153420.hdf\n",
      "/data/airs/AIRX3STD/v7/2012/AIRS.2012.08.15.L3.RetStd001.v7.0.3.0.G20183101552.hdf\n",
      "/data/airs/AIRX3STD/v7/2013/AIRS.2013.08.15.L3.RetStd001.v7.0.3.0.G20181235357.hdf\n",
      "/data/airs/AIRX3STD/v7/2014/AIRS.2014.08.15.L3.RetStd001.v7.0.3.0.G20179175743.hdf\n",
      "/data/airs/AIRX3STD/v7/2015/AIRS.2015.08.15.L3.RetStd001.v7.0.3.0.G20178015757.hdf\n",
      "/data/airs/AIRX3STD/v7/2016/AIRS.2016.08.15.L3.RetStd001.v7.0.3.0.G20176225606.hdf\n"
     ]
    }
   ],
   "source": [
    "AIRS_file_names = []\n",
    "AIRS_file1 = '/data/airs/AIRX3STD/v7/2003/AIRS.2003.08.15.L3.RetStd001.v7.0.3.0.G20202222706.hdf'\n",
    "AIRS_data_yrly = xr.open_dataset(xr.backends.NetCDF4DataStore(Dataset(AIRS_file1)))\n",
    "\n",
    "yearly_AIRS = '/data/airs/AIRX3STD/v7/*/AIRS.*.08.15.L3.RetStd001.v7.0.3.0.*.hdf'\n",
    "# daily_AIRS = '/data/airs/AIRX3STD/v7/*/AIRS.*.08.*.L3.RetStd001.v7.0.3.0.*.hdf'     # TODO: Include up to 09/08\n",
    "\n",
    "print(\"Beginning loop. Runtime: 9 sec per file. (2-4 min for yearly data; 70 min for daily data.\")\n",
    "\n",
    "for file in glob.glob(yearly_AIRS):\n",
    "    print(file)\n",
    "    AIRS_file_names.append(file)\n",
    "    AIRS_data_yrly = xr.concat([AIRS_data_yrly, xr.open_dataset(xr.backends.NetCDF4DataStore(Dataset(file)))], dim=\"time\")"
   ]
  },
  {
   "cell_type": "code",
   "execution_count": 10,
   "metadata": {},
   "outputs": [],
   "source": [
    "AIRS_data = AIRS_data_yrly\n",
    "AIRS_prs = AIRS_data['StdPressureLev:ascending']"
   ]
  },
  {
   "cell_type": "code",
   "execution_count": 11,
   "metadata": {},
   "outputs": [],
   "source": [
    "AIRS_data = AIRS_data_yrly.mean(dim='time')\n",
    "\n",
    "# Global Average \n",
    "# Average ascending/descending temperature\n",
    "AIRS_t_A = AIRS_data['Temperature_A'].mean(dim=['YDim:ascending', 'XDim:ascending', ])                              # Ascending orbit temperature\n",
    "AIRS_t_D = AIRS_data['Temperature_D'].mean(dim=['YDim:descending', 'XDim:descending'])                              # Descending orbit temperature\n",
    "AIRS_t = (AIRS_t_A.values + AIRS_t_D.values) / 2                                                                    # Average temperature\n",
    "AIRS_t_prs = (AIRS_t_A['StdPressureLev:ascending'].values + AIRS_t_D['StdPressureLev:descending'].values) / 2       # Temperature-associated pressure\n",
    "\n",
    "# Average ascending/descending moisture\n",
    "AIRS_h2o_A = AIRS_data['H2O_MMR_A'].mean(dim=['YDim:ascending', 'XDim:ascending'])                                  # Ascending orbit moisture\n",
    "AIRS_h2o_D = AIRS_data['H2O_MMR_D'].mean(dim=['YDim:descending', 'XDim:descending'])                                # Descending orbit moisture\n",
    "AIRS_h2o = ((AIRS_h2o_A.values + AIRS_h2o_D.values) / 2) * kgkg_to_ppmv                                             # Average moisture\n",
    "AIRS_h2o_prs = (AIRS_h2o_A['H2OPressureLev:ascending'].values + AIRS_h2o_D['H2OPressureLev:descending'].values) / 2 # Moisture-associated pressure\n",
    "AIRS_h2o_prs = AIRS_h2o_prs"
   ]
  },
  {
   "cell_type": "markdown",
   "metadata": {},
   "source": [
    "AIRS/MLS: Pressure vs. moisture/temperature"
   ]
  },
  {
   "cell_type": "code",
   "execution_count": 12,
   "metadata": {},
   "outputs": [],
   "source": [
    "# # Find MLS data where pressure < 300 hPa\n",
    "# MLS_prs_idxs_under300 = np.where(MLS_prs * hPa_to_Pa <= (300 + 50), np.arange(len(MLS_prs)), np.nan)       # Get list of indexes where MLS pressure < 300 hPa\n",
    "# MLS_prs_idxs_under300 = MLS_prs_idxs_under300[~np.isnan(MLS_prs_idxs_under300)].astype(int)                # Remove NaNs and convert values to integers in list\n",
    "# MLS_h2o_under300 = MLS_h2o.mean(dim=['Lat','Lon'])[MLS_prs_idxs_under300]                                  # Get corresponding moisture values\n",
    "\n",
    "# # Find AIRS data where pressure >= 300 hPa\n",
    "# AIRS_prs_idxs_over300 = np.where(AIRS_h2o_prs >= 300, np.arange(len(AIRS_h2o_prs)), np.nan)               # Get list of indexes where AIRS pressure >= 300 hPa\n",
    "# AIRS_prs_idxs_over300 = AIRS_prs_idxs_over300[~np.isnan(AIRS_prs_idxs_over300)].astype(int)             # Remove NaNs and convert values to integers in list\n",
    "# AIRS_h2o_over300 = AIRS_h2o[AIRS_prs_idxs_over300]   "
   ]
  },
  {
   "cell_type": "markdown",
   "metadata": {},
   "source": [
    "UM Data"
   ]
  },
  {
   "cell_type": "code",
   "execution_count": 34,
   "metadata": {},
   "outputs": [
    {
     "name": "stdout",
     "output_type": "stream",
     "text": [
      "UM data read.\n"
     ]
    }
   ],
   "source": [
    "# Folder containing data\n",
    "path = '/nas/bigdata_static/longtaow/'\n",
    "\n",
    "# Read in UM data\n",
    "UM_data_hus = xr.open_mfdataset(path+'DYAMOND/Monsoon/hus/*.nc', parallel=True)     # Moisture (kg/kg)\n",
    "UM_data_prs = xr.open_mfdataset(path+'DYAMOND/Monsoon/pfull/*.nc', parallel=True)   # Pressure (Pa)\n",
    "\n",
    "print(\"UM data read.\")\n",
    "\n",
    "# Temporal average\n",
    "UM_avg_prs = UM_data_prs.mean(dim='time')     # Pressure\n",
    "UM_avg_hus = UM_data_hus.mean(dim='time')     # Moisture\n",
    "\n",
    "# Model level number start/end indexes enclosing 100 hPa\n",
    "lv1, lv2 = 45, 55\n",
    "\n",
    "# Isolate pressure data variable\n",
    "UM_prs = UM_avg_prs['air_pressure'][:,lv1:lv2]\n",
    "\n",
    "# Isolate moisture data and convert units from kg/kg to ppmv\n",
    "UM_hus = UM_avg_hus['specific_humidity'][:,lv1:lv2] * kgkg_to_ppmv"
   ]
  },
  {
   "cell_type": "code",
   "execution_count": 33,
   "metadata": {},
   "outputs": [],
   "source": [
    "UM_hus_globalavg = UM_hus.mean(dim=['latitude','longitude'])"
   ]
  },
  {
   "cell_type": "markdown",
   "metadata": {},
   "source": [
    "## Figures"
   ]
  },
  {
   "cell_type": "markdown",
   "metadata": {},
   "source": [
    "Define coordinates for monsoon regions"
   ]
  },
  {
   "cell_type": "markdown",
   "metadata": {},
   "source": [
    "Labels for plotting"
   ]
  },
  {
   "cell_type": "code",
   "execution_count": 16,
   "metadata": {},
   "outputs": [],
   "source": [
    "# All\n",
    "date_range = \"08/11/2016 — 09/08/2016\"\n",
    "\n",
    "# UM\n",
    "UM_name = \"Unified Model\"\n",
    "\n",
    "# MLS\n",
    "MLS_dates = \"08/2004 — 08/2022\"\n",
    "MLS_name = \"MLS\"\n",
    "\n",
    "# GPM_MERGIR\n",
    "GPM_name = \"GPM_MERGIR Data\"\n",
    "\n",
    "# Asian Monsoon [[lat1,lat2],[lon1,lon2]\n",
    "AM_outercoords = [20, 160,-10,50]\n",
    "AM_box = [[20,40],[40,140]]\n",
    "\n",
    "# North American Monsoon\n",
    "NAM_outercoords = [-140,-40,-10,50]\n",
    "NAM_box = [[-10,40],[-140,60]]"
   ]
  },
  {
   "cell_type": "markdown",
   "metadata": {},
   "source": [
    "Functions for figure creation"
   ]
  },
  {
   "cell_type": "code",
   "execution_count": 17,
   "metadata": {},
   "outputs": [],
   "source": [
    "def CreateVertProfile(arr, arr_prs, arr2=0, arr2_prs=None, data_label=\"Moisture\", source=\"AIRS\", source2=\"MLS\", date_range=date_range, custom_units=None, full_AIRS=None, layer=\"all\"):\n",
    "    if data_label == \"Moisture\":\n",
    "        units = \"ppmv\"\n",
    "        color = \"darkblue\"\n",
    "    elif data_label == \"Temperature\":\n",
    "        units = \"°C\"\n",
    "        color = \"darkred\"\n",
    "    else:\n",
    "        units = custom_units\n",
    "\n",
    "        \n",
    "    if \"layer\" == \"UTLS\":\n",
    "        plt.ylim(50,300)\n",
    "        layer_label=\", Upper Troposphere/Lower Atmosphere only\"\n",
    "    else:\n",
    "        layer_label=\"\"\n",
    "\n",
    "\n",
    "    plt.title(f\"Vertical Profiles of Pressure (hPa) vs. {data_label} ({units})\\nfrom {source} Data for {date_range} {layer_label}\")\n",
    "    plt.ylabel(\"Pressure (hPa)\")\n",
    "    plt.xlabel(f\"{data_label} ({units})\")\n",
    "    plt.gca().invert_yaxis()\n",
    "\n",
    "    plt.plot(arr, arr_prs, label=source, color=color)\n",
    "\n",
    "    if np.array(arr2).any() == True:\n",
    "        plt.plot(arr2, arr2_prs, label=source2, color=\"gray\")\n",
    "        plt.legend()\n",
    "    if full_AIRS == True:\n",
    "        plt.plot(AIRS_h2o, AIRS_h2o_prs, label=\"AIRS (full)\", zorder=-1, alpha=1, linewidth=2, linestyle=\"--\", color=\"darkblue\")\n",
    "    plt.show()"
   ]
  },
  {
   "cell_type": "markdown",
   "metadata": {},
   "source": [
    "Task 3: Vertical profiles of pressure vs. temperature/moisture (UM, MLS)"
   ]
  },
  {
   "cell_type": "markdown",
   "metadata": {},
   "source": [
    "Global average, all atmospheric layers"
   ]
  },
  {
   "cell_type": "code",
   "execution_count": 35,
   "metadata": {},
   "outputs": [
    {
     "ename": "",
     "evalue": "",
     "output_type": "error",
     "traceback": [
      "\u001b[1;31mCannot execute code, session has been disposed. Please try restarting the Kernel."
     ]
    },
    {
     "ename": "",
     "evalue": "",
     "output_type": "error",
     "traceback": [
      "\u001b[1;31mThe Kernel crashed while executing code in the the current cell or a previous cell. Please review the code in the cell(s) to identify a possible cause of the failure. Click <a href='https://aka.ms/vscodeJupyterKernelCrash'>here</a> for more info. View Jupyter <a href='command:jupyter.viewOutput'>log</a> for further details."
     ]
    }
   ],
   "source": [
    "# Global average\n",
    "# Pressure vs. Moisture (MLS/AIRS)\n",
    "CreateVertProfile(AIRS_h2o, AIRS_h2o_prs, UM_hus, UM_prs)   # TODO: Add MLS data\n",
    "CreateVertProfile(UM_hus_globalavg, UM_prs) # TODO: UM data\n",
    "\n",
    "# Pressure vs. Temperature  (AIRS)\n",
    "CreateVertProfile(AIRS_t-273.15, AIRS_t_prs, data_label=\"Temperature\")\n",
    "# CreateVertProfile(UM_t, UM_t_prs, data_label=\"Temperature\")   # TODO: UM data"
   ]
  },
  {
   "cell_type": "markdown",
   "metadata": {},
   "source": [
    "Global average, UT/LS"
   ]
  },
  {
   "cell_type": "markdown",
   "metadata": {},
   "source": [
    "Asian Monsoon, all atmospheric layers"
   ]
  },
  {
   "cell_type": "markdown",
   "metadata": {},
   "source": [
    "Asian Monsoon, UT/LS"
   ]
  },
  {
   "cell_type": "markdown",
   "metadata": {},
   "source": [
    "North American Monsoon, all atmospheric layers"
   ]
  },
  {
   "cell_type": "markdown",
   "metadata": {},
   "source": [
    "North American Monsoon, UT/LS"
   ]
  }
 ],
 "metadata": {
  "kernelspec": {
   "display_name": "Python 3",
   "language": "python",
   "name": "python3"
  },
  "language_info": {
   "codemirror_mode": {
    "name": "ipython",
    "version": 3
   },
   "file_extension": ".py",
   "mimetype": "text/x-python",
   "name": "python",
   "nbconvert_exporter": "python",
   "pygments_lexer": "ipython3",
   "version": "3.9.17"
  },
  "orig_nbformat": 4
 },
 "nbformat": 4,
 "nbformat_minor": 2
}
